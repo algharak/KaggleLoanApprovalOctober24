{
 "nbformat": 4,
 "nbformat_minor": 0,
 "metadata": {
  "colab": {
   "provenance": []
  },
  "kernelspec": {
   "name": "python3",
   "display_name": "Python 3",
   "language": "python"
  },
  "language_info": {
   "name": "python"
  }
 },
 "cells": [
  {
   "cell_type": "code",
   "metadata": {
    "id": "f2-iY_vbme1b",
    "ExecuteTime": {
     "end_time": "2024-10-28T22:12:23.926705Z",
     "start_time": "2024-10-28T22:12:23.924260Z"
    }
   },
   "source": [
    "import pandas as pd\n",
    "import numpy as np\n",
    "import os"
   ],
   "outputs": [],
   "execution_count": 1
  },
  {
   "cell_type": "code",
   "source": [
    "# Read train and test datasets into pandas dataframes\n",
    "train_path = './data/train.csv'\n",
    "test_path = './data/test.csv'\n",
    "train_df = pd.read_csv(train_path)\n",
    "test_df = pd.read_csv(test_path)\n",
    "# train_df = train_df.sample(frac = 1)\n",
    "# test_df = test_df.sample(frac = 1)"
   ],
   "metadata": {
    "id": "f31yEPrLoCs_",
    "ExecuteTime": {
     "end_time": "2024-10-28T22:20:59.103864Z",
     "start_time": "2024-10-28T22:20:58.988996Z"
    }
   },
   "outputs": [],
   "execution_count": 9
  },
  {
   "cell_type": "code",
   "source": [
    "!pip install torchmetrics\n"
   ],
   "metadata": {
    "colab": {
     "base_uri": "https://localhost:8080/"
    },
    "id": "AuZmFgZy6cxJ",
    "outputId": "eb8a7613-bf72-4b12-a9d2-056f0de7ee50"
   },
   "execution_count": null,
   "outputs": [
    {
     "output_type": "stream",
     "name": "stdout",
     "text": [
      "Collecting torchmetrics\n",
      "  Downloading torchmetrics-1.5.1-py3-none-any.whl.metadata (20 kB)\n",
      "Requirement already satisfied: numpy<2.0,>1.20.0 in /usr/local/lib/python3.10/dist-packages (from torchmetrics) (1.26.4)\n",
      "Requirement already satisfied: packaging>17.1 in /usr/local/lib/python3.10/dist-packages (from torchmetrics) (24.1)\n",
      "Requirement already satisfied: torch>=1.10.0 in /usr/local/lib/python3.10/dist-packages (from torchmetrics) (2.5.0+cu121)\n",
      "Collecting lightning-utilities>=0.8.0 (from torchmetrics)\n",
      "  Downloading lightning_utilities-0.11.8-py3-none-any.whl.metadata (5.2 kB)\n",
      "Requirement already satisfied: setuptools in /usr/local/lib/python3.10/dist-packages (from lightning-utilities>=0.8.0->torchmetrics) (75.1.0)\n",
      "Requirement already satisfied: typing-extensions in /usr/local/lib/python3.10/dist-packages (from lightning-utilities>=0.8.0->torchmetrics) (4.12.2)\n",
      "Requirement already satisfied: filelock in /usr/local/lib/python3.10/dist-packages (from torch>=1.10.0->torchmetrics) (3.16.1)\n",
      "Requirement already satisfied: networkx in /usr/local/lib/python3.10/dist-packages (from torch>=1.10.0->torchmetrics) (3.4.2)\n",
      "Requirement already satisfied: jinja2 in /usr/local/lib/python3.10/dist-packages (from torch>=1.10.0->torchmetrics) (3.1.4)\n",
      "Requirement already satisfied: fsspec in /usr/local/lib/python3.10/dist-packages (from torch>=1.10.0->torchmetrics) (2024.6.1)\n",
      "Requirement already satisfied: sympy==1.13.1 in /usr/local/lib/python3.10/dist-packages (from torch>=1.10.0->torchmetrics) (1.13.1)\n",
      "Requirement already satisfied: mpmath<1.4,>=1.1.0 in /usr/local/lib/python3.10/dist-packages (from sympy==1.13.1->torch>=1.10.0->torchmetrics) (1.3.0)\n",
      "Requirement already satisfied: MarkupSafe>=2.0 in /usr/local/lib/python3.10/dist-packages (from jinja2->torch>=1.10.0->torchmetrics) (3.0.2)\n",
      "Downloading torchmetrics-1.5.1-py3-none-any.whl (890 kB)\n",
      "\u001B[2K   \u001B[90m━━━━━━━━━━━━━━━━━━━━━━━━━━━━━━━━━━━━━━━━\u001B[0m \u001B[32m890.6/890.6 kB\u001B[0m \u001B[31m13.5 MB/s\u001B[0m eta \u001B[36m0:00:00\u001B[0m\n",
      "\u001B[?25hDownloading lightning_utilities-0.11.8-py3-none-any.whl (26 kB)\n",
      "Installing collected packages: lightning-utilities, torchmetrics\n",
      "Successfully installed lightning-utilities-0.11.8 torchmetrics-1.5.1\n"
     ]
    }
   ]
  },
  {
   "cell_type": "code",
   "source": [
    "# Import the necessary libraries\n",
    "import matplotlib.pyplot as plt\n",
    "import seaborn as sns\n",
    "from sklearn.model_selection import train_test_split, GridSearchCV, cross_val_score\n",
    "from sklearn.compose import make_column_transformer, ColumnTransformer\n",
    "from sklearn.pipeline import Pipeline, make_pipeline\n",
    "from sklearn.preprocessing import OrdinalEncoder, StandardScaler, OneHotEncoder\n",
    "import lightgbm as lgb"
   ],
   "metadata": {
    "id": "hj3Mk1dEoTct",
    "colab": {
     "base_uri": "https://localhost:8080/"
    },
    "outputId": "7bd685d4-fde6-482f-9c9d-d1739aa4caef",
    "ExecuteTime": {
     "end_time": "2024-10-28T22:19:16.015093Z",
     "start_time": "2024-10-28T22:19:15.724700Z"
    }
   },
   "outputs": [],
   "execution_count": 4
  },
  {
   "cell_type": "code",
   "source": [
    "# Function to plot histogram of the features and targets\n",
    "def plot_histplot_for_train_df(x):\n",
    "   plt.figure(figsize=(5, 3))\n",
    "   sns.histplot(data=train_df, x=x)\n",
    "   plt.show()"
   ],
   "metadata": {
    "id": "XXJEeWKOrprx",
    "ExecuteTime": {
     "end_time": "2024-10-28T22:19:24.277359Z",
     "start_time": "2024-10-28T22:19:24.272255Z"
    }
   },
   "outputs": [],
   "execution_count": 5
  },
  {
   "cell_type": "code",
   "source": [
    "train_df.head()"
   ],
   "metadata": {
    "id": "SFSCpynUHT1E",
    "colab": {
     "base_uri": "https://localhost:8080/",
     "height": 226
    },
    "outputId": "dd0f6f07-00c8-41cf-eb0e-0e32a27c44d3",
    "ExecuteTime": {
     "end_time": "2024-10-28T22:21:23.992957Z",
     "start_time": "2024-10-28T22:21:23.961144Z"
    }
   },
   "outputs": [
    {
     "data": {
      "text/plain": [
       "   id  person_age  person_income person_home_ownership  person_emp_length  \\\n",
       "0   0          37          35000                  RENT                0.0   \n",
       "1   1          22          56000                   OWN                6.0   \n",
       "2   2          29          28800                   OWN                8.0   \n",
       "3   3          30          70000                  RENT               14.0   \n",
       "4   4          22          60000                  RENT                2.0   \n",
       "\n",
       "  loan_intent loan_grade  loan_amnt  loan_int_rate  loan_percent_income  \\\n",
       "0   EDUCATION          B       6000          11.49                 0.17   \n",
       "1     MEDICAL          C       4000          13.35                 0.07   \n",
       "2    PERSONAL          A       6000           8.90                 0.21   \n",
       "3     VENTURE          B      12000          11.11                 0.17   \n",
       "4     MEDICAL          A       6000           6.92                 0.10   \n",
       "\n",
       "  cb_person_default_on_file  cb_person_cred_hist_length  loan_status  \n",
       "0                         N                          14            0  \n",
       "1                         N                           2            0  \n",
       "2                         N                          10            0  \n",
       "3                         N                           5            0  \n",
       "4                         N                           3            0  "
      ],
      "text/html": [
       "<div>\n",
       "<style scoped>\n",
       "    .dataframe tbody tr th:only-of-type {\n",
       "        vertical-align: middle;\n",
       "    }\n",
       "\n",
       "    .dataframe tbody tr th {\n",
       "        vertical-align: top;\n",
       "    }\n",
       "\n",
       "    .dataframe thead th {\n",
       "        text-align: right;\n",
       "    }\n",
       "</style>\n",
       "<table border=\"1\" class=\"dataframe\">\n",
       "  <thead>\n",
       "    <tr style=\"text-align: right;\">\n",
       "      <th></th>\n",
       "      <th>id</th>\n",
       "      <th>person_age</th>\n",
       "      <th>person_income</th>\n",
       "      <th>person_home_ownership</th>\n",
       "      <th>person_emp_length</th>\n",
       "      <th>loan_intent</th>\n",
       "      <th>loan_grade</th>\n",
       "      <th>loan_amnt</th>\n",
       "      <th>loan_int_rate</th>\n",
       "      <th>loan_percent_income</th>\n",
       "      <th>cb_person_default_on_file</th>\n",
       "      <th>cb_person_cred_hist_length</th>\n",
       "      <th>loan_status</th>\n",
       "    </tr>\n",
       "  </thead>\n",
       "  <tbody>\n",
       "    <tr>\n",
       "      <th>0</th>\n",
       "      <td>0</td>\n",
       "      <td>37</td>\n",
       "      <td>35000</td>\n",
       "      <td>RENT</td>\n",
       "      <td>0.0</td>\n",
       "      <td>EDUCATION</td>\n",
       "      <td>B</td>\n",
       "      <td>6000</td>\n",
       "      <td>11.49</td>\n",
       "      <td>0.17</td>\n",
       "      <td>N</td>\n",
       "      <td>14</td>\n",
       "      <td>0</td>\n",
       "    </tr>\n",
       "    <tr>\n",
       "      <th>1</th>\n",
       "      <td>1</td>\n",
       "      <td>22</td>\n",
       "      <td>56000</td>\n",
       "      <td>OWN</td>\n",
       "      <td>6.0</td>\n",
       "      <td>MEDICAL</td>\n",
       "      <td>C</td>\n",
       "      <td>4000</td>\n",
       "      <td>13.35</td>\n",
       "      <td>0.07</td>\n",
       "      <td>N</td>\n",
       "      <td>2</td>\n",
       "      <td>0</td>\n",
       "    </tr>\n",
       "    <tr>\n",
       "      <th>2</th>\n",
       "      <td>2</td>\n",
       "      <td>29</td>\n",
       "      <td>28800</td>\n",
       "      <td>OWN</td>\n",
       "      <td>8.0</td>\n",
       "      <td>PERSONAL</td>\n",
       "      <td>A</td>\n",
       "      <td>6000</td>\n",
       "      <td>8.90</td>\n",
       "      <td>0.21</td>\n",
       "      <td>N</td>\n",
       "      <td>10</td>\n",
       "      <td>0</td>\n",
       "    </tr>\n",
       "    <tr>\n",
       "      <th>3</th>\n",
       "      <td>3</td>\n",
       "      <td>30</td>\n",
       "      <td>70000</td>\n",
       "      <td>RENT</td>\n",
       "      <td>14.0</td>\n",
       "      <td>VENTURE</td>\n",
       "      <td>B</td>\n",
       "      <td>12000</td>\n",
       "      <td>11.11</td>\n",
       "      <td>0.17</td>\n",
       "      <td>N</td>\n",
       "      <td>5</td>\n",
       "      <td>0</td>\n",
       "    </tr>\n",
       "    <tr>\n",
       "      <th>4</th>\n",
       "      <td>4</td>\n",
       "      <td>22</td>\n",
       "      <td>60000</td>\n",
       "      <td>RENT</td>\n",
       "      <td>2.0</td>\n",
       "      <td>MEDICAL</td>\n",
       "      <td>A</td>\n",
       "      <td>6000</td>\n",
       "      <td>6.92</td>\n",
       "      <td>0.10</td>\n",
       "      <td>N</td>\n",
       "      <td>3</td>\n",
       "      <td>0</td>\n",
       "    </tr>\n",
       "  </tbody>\n",
       "</table>\n",
       "</div>"
      ]
     },
     "execution_count": 10,
     "metadata": {},
     "output_type": "execute_result"
    }
   ],
   "execution_count": 10
  },
  {
   "cell_type": "code",
   "source": [
    "# plot histogram of various columns\n",
    "# process the loan amount first\n",
    "plot_histplot_for_train_df('loan_amnt')\n",
    "plot_histplot_for_train_df('loan_int_rate')\n",
    "plot_histplot_for_train_df('loan_percent_income')\n",
    "plot_histplot_for_train_df('cb_person_cred_hist_length')\n",
    "plot_histplot_for_train_df('cb_person_default_on_file')\n",
    "plot_histplot_for_train_df('loan_grade')\n",
    "plot_histplot_for_train_df('loan_intent')\n",
    "plot_histplot_for_train_df('person_emp_length')\n",
    "plot_histplot_for_train_df('person_home_ownership')\n",
    "plot_histplot_for_train_df('person_income')\n",
    "plot_histplot_for_train_df('person_age')\n",
    "plot_histplot_for_train_df('loan_status')\n"
   ],
   "metadata": {
    "id": "EsHnA-_IuNxN",
    "colab": {
     "base_uri": "https://localhost:8080/",
     "height": 1000
    },
    "outputId": "6da30eba-f204-494c-a7bf-58249e837e9c",
    "ExecuteTime": {
     "end_time": "2024-10-28T22:21:34.738427Z",
     "start_time": "2024-10-28T22:21:31.362626Z"
    }
   },
   "outputs": [
    {
     "data": {
      "text/plain": [
       "<Figure size 360x216 with 1 Axes>"
      ],
      "image/png": "[encoded data removed]"
     },
     "metadata": {},
     "output_type": "display_data"
    },
    {
     "data": {
      "text/plain": [
       "<Figure size 360x216 with 1 Axes>"
      ],
      "image/png": "[encoded data removed]"
     },
     "metadata": {},
     "output_type": "display_data"
    },
    {
     "data": {
      "text/plain": [
       "<Figure size 360x216 with 1 Axes>"
      ],
      "image/png": "[encoded data removed]"
     },
     "metadata": {},
     "output_type": "display_data"
    },
    {
     "data": {
      "text/plain": [
       "<Figure size 360x216 with 1 Axes>"
      ],
      "image/png": "[encoded data removed]"
     },
     "metadata": {},
     "output_type": "display_data"
    },
    {
     "data": {
      "text/plain": [
       "<Figure size 360x216 with 1 Axes>"
      ],
      "image/png": "[encoded data removed]"
     },
     "metadata": {},
     "output_type": "display_data"
    },
    {
     "data": {
      "text/plain": [
       "<Figure size 360x216 with 1 Axes>"
      ],
      "image/png": "[encoded data removed]"
     },
     "metadata": {},
     "output_type": "display_data"
    },
    {
     "data": {
      "text/plain": [
       "<Figure size 360x216 with 1 Axes>"
      ],
      "image/png": "[encoded data removed]"
     },
     "metadata": {},
     "output_type": "display_data"
    },
    {
     "data": {
      "text/plain": [
       "<Figure size 360x216 with 1 Axes>"
      ],
      "image/png": "[encoded data removed]"
     },
     "metadata": {},
     "output_type": "display_data"
    },
    {
     "data": {
      "text/plain": [
       "<Figure size 360x216 with 1 Axes>"
      ],
      "image/png": "[encoded data removed]"
     },
     "metadata": {},
     "output_type": "display_data"
    },
    {
     "data": {
      "text/plain": [
       "<Figure size 360x216 with 1 Axes>"
      ],
      "image/png": "[encoded data removed]"
     },
     "metadata": {},
     "output_type": "display_data"
    },
    {
     "data": {
      "text/plain": [
       "<Figure size 360x216 with 1 Axes>"
      ],
      "image/png": "[encoded data removed]"
     },
     "metadata": {},
     "output_type": "display_data"
    },
    {
     "data": {
      "text/plain": [
       "<Figure size 360x216 with 1 Axes>"
      ],
      "image/png": "[encoded data removed]"
     },
     "metadata": {},
     "output_type": "display_data"
    }
   ],
   "execution_count": 11
  },
  {
   "cell_type": "code",
   "source": [
    "# Check to see if there is missing entries\n",
    "pd.DataFrame(train_df.isnull().sum().sort_values(ascending=False)).head(20)\n",
    "pd.DataFrame(test_df.isnull().sum().sort_values(ascending=False)).head(20)\n"
   ],
   "metadata": {
    "id": "DMna1qMTuT8P",
    "colab": {
     "base_uri": "https://localhost:8080/",
     "height": 426
    },
    "outputId": "f2042595-ff35-4604-d1e9-f6303b7b3213",
    "ExecuteTime": {
     "end_time": "2024-10-28T22:21:45.292882Z",
     "start_time": "2024-10-28T22:21:45.263602Z"
    }
   },
   "outputs": [
    {
     "data": {
      "text/plain": [
       "                            0\n",
       "cb_person_cred_hist_length  0\n",
       "cb_person_default_on_file   0\n",
       "loan_percent_income         0\n",
       "loan_int_rate               0\n",
       "loan_amnt                   0\n",
       "loan_grade                  0\n",
       "loan_intent                 0\n",
       "person_emp_length           0\n",
       "person_home_ownership       0\n",
       "person_income               0\n",
       "person_age                  0\n",
       "id                          0"
      ],
      "text/html": [
       "<div>\n",
       "<style scoped>\n",
       "    .dataframe tbody tr th:only-of-type {\n",
       "        vertical-align: middle;\n",
       "    }\n",
       "\n",
       "    .dataframe tbody tr th {\n",
       "        vertical-align: top;\n",
       "    }\n",
       "\n",
       "    .dataframe thead th {\n",
       "        text-align: right;\n",
       "    }\n",
       "</style>\n",
       "<table border=\"1\" class=\"dataframe\">\n",
       "  <thead>\n",
       "    <tr style=\"text-align: right;\">\n",
       "      <th></th>\n",
       "      <th>0</th>\n",
       "    </tr>\n",
       "  </thead>\n",
       "  <tbody>\n",
       "    <tr>\n",
       "      <th>cb_person_cred_hist_length</th>\n",
       "      <td>0</td>\n",
       "    </tr>\n",
       "    <tr>\n",
       "      <th>cb_person_default_on_file</th>\n",
       "      <td>0</td>\n",
       "    </tr>\n",
       "    <tr>\n",
       "      <th>loan_percent_income</th>\n",
       "      <td>0</td>\n",
       "    </tr>\n",
       "    <tr>\n",
       "      <th>loan_int_rate</th>\n",
       "      <td>0</td>\n",
       "    </tr>\n",
       "    <tr>\n",
       "      <th>loan_amnt</th>\n",
       "      <td>0</td>\n",
       "    </tr>\n",
       "    <tr>\n",
       "      <th>loan_grade</th>\n",
       "      <td>0</td>\n",
       "    </tr>\n",
       "    <tr>\n",
       "      <th>loan_intent</th>\n",
       "      <td>0</td>\n",
       "    </tr>\n",
       "    <tr>\n",
       "      <th>person_emp_length</th>\n",
       "      <td>0</td>\n",
       "    </tr>\n",
       "    <tr>\n",
       "      <th>person_home_ownership</th>\n",
       "      <td>0</td>\n",
       "    </tr>\n",
       "    <tr>\n",
       "      <th>person_income</th>\n",
       "      <td>0</td>\n",
       "    </tr>\n",
       "    <tr>\n",
       "      <th>person_age</th>\n",
       "      <td>0</td>\n",
       "    </tr>\n",
       "    <tr>\n",
       "      <th>id</th>\n",
       "      <td>0</td>\n",
       "    </tr>\n",
       "  </tbody>\n",
       "</table>\n",
       "</div>"
      ]
     },
     "execution_count": 12,
     "metadata": {},
     "output_type": "execute_result"
    }
   ],
   "execution_count": 12
  },
  {
   "cell_type": "code",
   "source": [
    "# create new features\n",
    "train_df['TotalInt_'] = train_df[\"loan_amnt\"]*train_df['loan_int_rate']\n",
    "train_df['Income_to_Int_'] = (train_df['person_income']*12)/(train_df[\"loan_amnt\"]*train_df['loan_int_rate'])\n",
    "train_df['Income_age_'] = train_df['person_income']/train_df[\"person_age\"]\n",
    "\n",
    "test_df['TotalInt_'] = test_df[\"loan_amnt\"]*test_df['loan_int_rate']\n",
    "test_df['Income_to_Int_'] = (test_df['person_income']*12)/(test_df[\"loan_amnt\"]*test_df['loan_int_rate'])\n",
    "test_df['Income_age_'] = test_df['person_income']/test_df[\"person_age\"]\n"
   ],
   "metadata": {
    "id": "Oh-OUdTlbhEv",
    "ExecuteTime": {
     "end_time": "2024-10-28T22:21:53.245674Z",
     "start_time": "2024-10-28T22:21:53.219345Z"
    }
   },
   "outputs": [],
   "execution_count": 13
  },
  {
   "cell_type": "code",
   "source": [
    "# Remove the outliers\n",
    "train_df = train_df.loc[train_df['person_emp_length']<40]\n",
    "train_df = train_df.loc[train_df['person_income']<500000]\n",
    "train_df = train_df.loc[train_df['person_age']<80]"
   ],
   "metadata": {
    "id": "ZkHUd8dmtVyL",
    "ExecuteTime": {
     "end_time": "2024-10-28T22:22:01.400987Z",
     "start_time": "2024-10-28T22:22:01.355820Z"
    }
   },
   "outputs": [],
   "execution_count": 14
  },
  {
   "cell_type": "code",
   "source": [
    "# List of numerical features\n",
    "log_num_cols = ['person_age', 'person_income',\n",
    "       'person_emp_length', 'loan_amnt','loan_int_rate', 'loan_percent_income', 'TotalInt_',\n",
    "       'Income_to_Int_', 'Income_age_','cb_person_cred_hist_length']"
   ],
   "metadata": {
    "id": "He9rcKQuy93K",
    "ExecuteTime": {
     "end_time": "2024-10-28T22:22:06.900859Z",
     "start_time": "2024-10-28T22:22:06.896824Z"
    }
   },
   "outputs": [],
   "execution_count": 15
  },
  {
   "cell_type": "code",
   "source": [
    "# Transform the numerical columns using Sklearn pipeline.  Take the log first and then use standard scaling\n",
    "from sklearn.preprocessing import FunctionTransformer\n",
    "\n",
    "def log_transform(x):\n",
    "    return np.log1p(1+x)\n",
    "\n",
    "log_transformer = FunctionTransformer(log_transform)\n",
    "numeric_transformer = Pipeline(\n",
    "    steps=[(\"trans\",log_transformer) , (\"scaler\", StandardScaler())])\n",
    "preprocessor = ColumnTransformer(\n",
    "    transformers=[(\"num\", numeric_transformer, log_num_cols)])\n",
    "train_df[log_num_cols] = preprocessor.fit_transform(train_df)\n",
    "test_df[log_num_cols] = preprocessor.fit_transform(test_df)"
   ],
   "metadata": {
    "id": "KFDgFVAF2oXF",
    "ExecuteTime": {
     "end_time": "2024-10-28T22:22:16.036190Z",
     "start_time": "2024-10-28T22:22:15.874500Z"
    }
   },
   "outputs": [],
   "execution_count": 16
  },
  {
   "cell_type": "code",
   "source": [
    "# Download category encoding libraries\n",
    "!pip install category_encoders"
   ],
   "metadata": {
    "id": "PGtuEovvHBS0",
    "colab": {
     "base_uri": "https://localhost:8080/"
    },
    "outputId": "226c4d43-14b7-4982-b101-4f95f766667e",
    "ExecuteTime": {
     "end_time": "2024-10-28T22:23:03.920269Z",
     "start_time": "2024-10-28T22:22:30.921767Z"
    }
   },
   "outputs": [
    {
     "name": "stdout",
     "output_type": "stream",
     "text": [
      "Defaulting to user installation because normal site-packages is not writeable\r\n",
      "Collecting category_encoders\r\n",
      "  Downloading category_encoders-2.6.4-py2.py3-none-any.whl (82 kB)\r\n",
      "     |████████████████████████████████| 82 kB 443 kB/s            \r\n",
      "\u001B[?25hCollecting patsy>=0.5.1\r\n",
      "  Using cached patsy-0.5.6-py2.py3-none-any.whl (233 kB)\r\n",
      "Collecting importlib-resources\r\n",
      "  Downloading importlib_resources-6.4.5-py3-none-any.whl (36 kB)\r\n",
      "Requirement already satisfied: numpy>=1.14.0 in /Users/algh/Library/Python/3.8/lib/python/site-packages (from category_encoders) (1.21.2)\r\n",
      "Collecting scikit-learn>=0.20.0\r\n",
      "  Downloading scikit_learn-1.3.2-cp38-cp38-macosx_10_9_x86_64.whl (10.1 MB)\r\n",
      "     |████████████████████████████████| 10.1 MB 7.0 MB/s            \r\n",
      "\u001B[?25hRequirement already satisfied: pandas>=1.0.5 in /Users/algh/Library/Python/3.8/lib/python/site-packages (from category_encoders) (1.3.4)\r\n",
      "Collecting statsmodels>=0.9.0\r\n",
      "  Downloading statsmodels-0.14.1-cp38-cp38-macosx_10_9_x86_64.whl (10.5 MB)\r\n",
      "     |████████████████████████████████| 10.5 MB 2.4 MB/s            \r\n",
      "\u001B[?25hCollecting scipy>=1.0.0\r\n",
      "  Downloading scipy-1.10.1-cp38-cp38-macosx_10_9_x86_64.whl (35.0 MB)\r\n",
      "     |████████████████████████████████| 35.0 MB 5.0 MB/s            \r\n",
      "\u001B[?25hRequirement already satisfied: python-dateutil>=2.7.3 in /Users/algh/Library/Python/3.8/lib/python/site-packages (from pandas>=1.0.5->category_encoders) (2.8.2)\r\n",
      "Requirement already satisfied: pytz>=2017.3 in /Users/algh/Library/Python/3.8/lib/python/site-packages (from pandas>=1.0.5->category_encoders) (2021.3)\r\n",
      "Requirement already satisfied: six in /Library/Developer/CommandLineTools/Library/Frameworks/Python3.framework/Versions/3.8/lib/python3.8/site-packages (from patsy>=0.5.1->category_encoders) (1.15.0)\r\n",
      "Collecting joblib>=1.1.1\r\n",
      "  Downloading joblib-1.4.2-py3-none-any.whl (301 kB)\r\n",
      "     |████████████████████████████████| 301 kB 12.3 MB/s            \r\n",
      "\u001B[?25hCollecting threadpoolctl>=2.0.0\r\n",
      "  Downloading threadpoolctl-3.5.0-py3-none-any.whl (18 kB)\r\n",
      "Collecting packaging>=21.3\r\n",
      "  Downloading packaging-24.1-py3-none-any.whl (53 kB)\r\n",
      "     |████████████████████████████████| 53 kB 4.2 MB/s             \r\n",
      "\u001B[?25hCollecting zipp>=3.1.0\r\n",
      "  Downloading zipp-3.20.2-py3-none-any.whl (9.2 kB)\r\n",
      "Installing collected packages: zipp, threadpoolctl, scipy, patsy, packaging, joblib, statsmodels, scikit-learn, importlib-resources, category-encoders\r\n",
      "  Attempting uninstall: packaging\r\n",
      "    Found existing installation: packaging 21.2\r\n",
      "    Uninstalling packaging-21.2:\r\n",
      "      Successfully uninstalled packaging-21.2\r\n",
      "Successfully installed category-encoders-2.6.4 importlib-resources-6.4.5 joblib-1.4.2 packaging-24.1 patsy-0.5.6 scikit-learn-1.3.2 scipy-1.10.1 statsmodels-0.14.1 threadpoolctl-3.5.0 zipp-3.20.2\r\n",
      "\u001B[33mWARNING: You are using pip version 21.3; however, version 24.3.1 is available.\r\n",
      "You should consider upgrading via the '/Library/Developer/CommandLineTools/usr/bin/python3 -m pip install --upgrade pip' command.\u001B[0m\r\n"
     ]
    }
   ],
   "execution_count": 17
  },
  {
   "cell_type": "code",
   "source": [
    "#create train and validation sets in dataframe format\n",
    "X_trf = train_df.drop(['loan_status','id'], axis=1)\n",
    "y_trf = train_df['loan_status']\n",
    "test_id_col = test_df[['id']]\n",
    "X_tef = test_df.drop(['id'], axis=1)\n",
    "test_df.head()"
   ],
   "metadata": {
    "id": "BIC-Xv-UMM2M",
    "colab": {
     "base_uri": "https://localhost:8080/",
     "height": 226
    },
    "outputId": "03fd70c7-0855-4a9b-8af4-478430b00a15",
    "ExecuteTime": {
     "end_time": "2024-10-28T22:23:15.757048Z",
     "start_time": "2024-10-28T22:23:15.713466Z"
    }
   },
   "outputs": [
    {
     "data": {
      "text/plain": [
       "      id  person_age  person_income person_home_ownership  person_emp_length  \\\n",
       "0  58645   -0.832609       0.403731                  RENT          -0.205201   \n",
       "1  58646   -0.204502       1.129433              MORTGAGE           0.582503   \n",
       "2  58647   -0.204502      -1.426541                  RENT           0.358711   \n",
       "3  58648    1.032236      -0.304038                  RENT           0.100361   \n",
       "4  58649   -0.204502       1.262656              MORTGAGE           0.956481   \n",
       "\n",
       "         loan_intent loan_grade  loan_amnt  loan_int_rate  \\\n",
       "0    HOMEIMPROVEMENT          F   1.845973       1.500477   \n",
       "1           PERSONAL          C   0.412675       0.723447   \n",
       "2            VENTURE          E  -1.020343       1.816411   \n",
       "3  DEBTCONSOLIDATION          A  -0.145190      -0.491173   \n",
       "4    HOMEIMPROVEMENT          D   1.046898       1.627130   \n",
       "\n",
       "   loan_percent_income cb_person_default_on_file  cb_person_cred_hist_length  \\\n",
       "0             2.149931                         N                   -1.240302   \n",
       "1            -0.649902                         Y                   -0.344520   \n",
       "2            -0.309659                         Y                   -1.240302   \n",
       "3            -0.197309                         N                    0.551262   \n",
       "4            -0.085482                         Y                   -0.344520   \n",
       "\n",
       "   TotalInt_  Income_to_Int_  Income_age_  \n",
       "0   2.225861       -1.670924     0.729692  \n",
       "1   0.661718       -0.018999     1.169332  \n",
       "2  -0.182590       -0.727777    -1.292399  \n",
       "3  -0.318703        0.060835    -0.716135  \n",
       "4   1.569280       -0.782778     1.297704  "
      ],
      "text/html": [
       "<div>\n",
       "<style scoped>\n",
       "    .dataframe tbody tr th:only-of-type {\n",
       "        vertical-align: middle;\n",
       "    }\n",
       "\n",
       "    .dataframe tbody tr th {\n",
       "        vertical-align: top;\n",
       "    }\n",
       "\n",
       "    .dataframe thead th {\n",
       "        text-align: right;\n",
       "    }\n",
       "</style>\n",
       "<table border=\"1\" class=\"dataframe\">\n",
       "  <thead>\n",
       "    <tr style=\"text-align: right;\">\n",
       "      <th></th>\n",
       "      <th>id</th>\n",
       "      <th>person_age</th>\n",
       "      <th>person_income</th>\n",
       "      <th>person_home_ownership</th>\n",
       "      <th>person_emp_length</th>\n",
       "      <th>loan_intent</th>\n",
       "      <th>loan_grade</th>\n",
       "      <th>loan_amnt</th>\n",
       "      <th>loan_int_rate</th>\n",
       "      <th>loan_percent_income</th>\n",
       "      <th>cb_person_default_on_file</th>\n",
       "      <th>cb_person_cred_hist_length</th>\n",
       "      <th>TotalInt_</th>\n",
       "      <th>Income_to_Int_</th>\n",
       "      <th>Income_age_</th>\n",
       "    </tr>\n",
       "  </thead>\n",
       "  <tbody>\n",
       "    <tr>\n",
       "      <th>0</th>\n",
       "      <td>58645</td>\n",
       "      <td>-0.832609</td>\n",
       "      <td>0.403731</td>\n",
       "      <td>RENT</td>\n",
       "      <td>-0.205201</td>\n",
       "      <td>HOMEIMPROVEMENT</td>\n",
       "      <td>F</td>\n",
       "      <td>1.845973</td>\n",
       "      <td>1.500477</td>\n",
       "      <td>2.149931</td>\n",
       "      <td>N</td>\n",
       "      <td>-1.240302</td>\n",
       "      <td>2.225861</td>\n",
       "      <td>-1.670924</td>\n",
       "      <td>0.729692</td>\n",
       "    </tr>\n",
       "    <tr>\n",
       "      <th>1</th>\n",
       "      <td>58646</td>\n",
       "      <td>-0.204502</td>\n",
       "      <td>1.129433</td>\n",
       "      <td>MORTGAGE</td>\n",
       "      <td>0.582503</td>\n",
       "      <td>PERSONAL</td>\n",
       "      <td>C</td>\n",
       "      <td>0.412675</td>\n",
       "      <td>0.723447</td>\n",
       "      <td>-0.649902</td>\n",
       "      <td>Y</td>\n",
       "      <td>-0.344520</td>\n",
       "      <td>0.661718</td>\n",
       "      <td>-0.018999</td>\n",
       "      <td>1.169332</td>\n",
       "    </tr>\n",
       "    <tr>\n",
       "      <th>2</th>\n",
       "      <td>58647</td>\n",
       "      <td>-0.204502</td>\n",
       "      <td>-1.426541</td>\n",
       "      <td>RENT</td>\n",
       "      <td>0.358711</td>\n",
       "      <td>VENTURE</td>\n",
       "      <td>E</td>\n",
       "      <td>-1.020343</td>\n",
       "      <td>1.816411</td>\n",
       "      <td>-0.309659</td>\n",
       "      <td>Y</td>\n",
       "      <td>-1.240302</td>\n",
       "      <td>-0.182590</td>\n",
       "      <td>-0.727777</td>\n",
       "      <td>-1.292399</td>\n",
       "    </tr>\n",
       "    <tr>\n",
       "      <th>3</th>\n",
       "      <td>58648</td>\n",
       "      <td>1.032236</td>\n",
       "      <td>-0.304038</td>\n",
       "      <td>RENT</td>\n",
       "      <td>0.100361</td>\n",
       "      <td>DEBTCONSOLIDATION</td>\n",
       "      <td>A</td>\n",
       "      <td>-0.145190</td>\n",
       "      <td>-0.491173</td>\n",
       "      <td>-0.197309</td>\n",
       "      <td>N</td>\n",
       "      <td>0.551262</td>\n",
       "      <td>-0.318703</td>\n",
       "      <td>0.060835</td>\n",
       "      <td>-0.716135</td>\n",
       "    </tr>\n",
       "    <tr>\n",
       "      <th>4</th>\n",
       "      <td>58649</td>\n",
       "      <td>-0.204502</td>\n",
       "      <td>1.262656</td>\n",
       "      <td>MORTGAGE</td>\n",
       "      <td>0.956481</td>\n",
       "      <td>HOMEIMPROVEMENT</td>\n",
       "      <td>D</td>\n",
       "      <td>1.046898</td>\n",
       "      <td>1.627130</td>\n",
       "      <td>-0.085482</td>\n",
       "      <td>Y</td>\n",
       "      <td>-0.344520</td>\n",
       "      <td>1.569280</td>\n",
       "      <td>-0.782778</td>\n",
       "      <td>1.297704</td>\n",
       "    </tr>\n",
       "  </tbody>\n",
       "</table>\n",
       "</div>"
      ]
     },
     "execution_count": 18,
     "metadata": {},
     "output_type": "execute_result"
    }
   ],
   "execution_count": 18
  },
  {
   "cell_type": "code",
   "source": [
    "# Try one-hot-encoding instead of target encoding\n",
    "from category_encoders import OneHotEncoder\n",
    "categ_cols = ['person_home_ownership','loan_intent', 'loan_grade',\n",
    "       'cb_person_cred_hist_length','cb_person_default_on_file']\n",
    "t_enc = OneHotEncoder(cols=categ_cols)\n",
    "t_enc.fit(X_trf, y_trf)\n",
    "X_trf=t_enc.transform(X_trf)\n",
    "X_tef=t_enc.transform(X_tef)\n",
    "X_tef.head()"
   ],
   "metadata": {
    "id": "d2KTF-evpDAn",
    "colab": {
     "base_uri": "https://localhost:8080/",
     "height": 256
    },
    "outputId": "a603d0a4-1514-46d3-b617-5e90bffcc572",
    "ExecuteTime": {
     "end_time": "2024-10-28T22:24:18.606896Z",
     "start_time": "2024-10-28T22:24:17.455659Z"
    }
   },
   "outputs": [
    {
     "data": {
      "text/plain": [
       "   person_age  person_income  person_home_ownership_1  \\\n",
       "0   -0.832609       0.403731                        1   \n",
       "1   -0.204502       1.129433                        0   \n",
       "2   -0.204502      -1.426541                        1   \n",
       "3    1.032236      -0.304038                        1   \n",
       "4   -0.204502       1.262656                        0   \n",
       "\n",
       "   person_home_ownership_2  person_home_ownership_3  person_home_ownership_4  \\\n",
       "0                        0                        0                        0   \n",
       "1                        0                        1                        0   \n",
       "2                        0                        0                        0   \n",
       "3                        0                        0                        0   \n",
       "4                        0                        1                        0   \n",
       "\n",
       "   person_emp_length  loan_intent_1  loan_intent_2  loan_intent_3  ...  \\\n",
       "0          -0.205201              0              0              0  ...   \n",
       "1           0.582503              0              0              1  ...   \n",
       "2           0.358711              0              0              0  ...   \n",
       "3           0.100361              0              0              0  ...   \n",
       "4           0.956481              0              0              0  ...   \n",
       "\n",
       "   cb_person_cred_hist_length_23  cb_person_cred_hist_length_24  \\\n",
       "0                              0                              0   \n",
       "1                              0                              0   \n",
       "2                              0                              0   \n",
       "3                              0                              0   \n",
       "4                              0                              0   \n",
       "\n",
       "   cb_person_cred_hist_length_25  cb_person_cred_hist_length_26  \\\n",
       "0                              0                              0   \n",
       "1                              0                              0   \n",
       "2                              0                              0   \n",
       "3                              0                              0   \n",
       "4                              0                              0   \n",
       "\n",
       "   cb_person_cred_hist_length_27  cb_person_cred_hist_length_28  \\\n",
       "0                              0                              0   \n",
       "1                              0                              0   \n",
       "2                              0                              0   \n",
       "3                              0                              0   \n",
       "4                              0                              0   \n",
       "\n",
       "   cb_person_cred_hist_length_29  TotalInt_  Income_to_Int_  Income_age_  \n",
       "0                              0   2.225861       -1.670924     0.729692  \n",
       "1                              0   0.661718       -0.018999     1.169332  \n",
       "2                              0  -0.182590       -0.727777    -1.292399  \n",
       "3                              0  -0.318703        0.060835    -0.716135  \n",
       "4                              0   1.569280       -0.782778     1.297704  \n",
       "\n",
       "[5 rows x 57 columns]"
      ],
      "text/html": [
       "<div>\n",
       "<style scoped>\n",
       "    .dataframe tbody tr th:only-of-type {\n",
       "        vertical-align: middle;\n",
       "    }\n",
       "\n",
       "    .dataframe tbody tr th {\n",
       "        vertical-align: top;\n",
       "    }\n",
       "\n",
       "    .dataframe thead th {\n",
       "        text-align: right;\n",
       "    }\n",
       "</style>\n",
       "<table border=\"1\" class=\"dataframe\">\n",
       "  <thead>\n",
       "    <tr style=\"text-align: right;\">\n",
       "      <th></th>\n",
       "      <th>person_age</th>\n",
       "      <th>person_income</th>\n",
       "      <th>person_home_ownership_1</th>\n",
       "      <th>person_home_ownership_2</th>\n",
       "      <th>person_home_ownership_3</th>\n",
       "      <th>person_home_ownership_4</th>\n",
       "      <th>person_emp_length</th>\n",
       "      <th>loan_intent_1</th>\n",
       "      <th>loan_intent_2</th>\n",
       "      <th>loan_intent_3</th>\n",
       "      <th>...</th>\n",
       "      <th>cb_person_cred_hist_length_23</th>\n",
       "      <th>cb_person_cred_hist_length_24</th>\n",
       "      <th>cb_person_cred_hist_length_25</th>\n",
       "      <th>cb_person_cred_hist_length_26</th>\n",
       "      <th>cb_person_cred_hist_length_27</th>\n",
       "      <th>cb_person_cred_hist_length_28</th>\n",
       "      <th>cb_person_cred_hist_length_29</th>\n",
       "      <th>TotalInt_</th>\n",
       "      <th>Income_to_Int_</th>\n",
       "      <th>Income_age_</th>\n",
       "    </tr>\n",
       "  </thead>\n",
       "  <tbody>\n",
       "    <tr>\n",
       "      <th>0</th>\n",
       "      <td>-0.832609</td>\n",
       "      <td>0.403731</td>\n",
       "      <td>1</td>\n",
       "      <td>0</td>\n",
       "      <td>0</td>\n",
       "      <td>0</td>\n",
       "      <td>-0.205201</td>\n",
       "      <td>0</td>\n",
       "      <td>0</td>\n",
       "      <td>0</td>\n",
       "      <td>...</td>\n",
       "      <td>0</td>\n",
       "      <td>0</td>\n",
       "      <td>0</td>\n",
       "      <td>0</td>\n",
       "      <td>0</td>\n",
       "      <td>0</td>\n",
       "      <td>0</td>\n",
       "      <td>2.225861</td>\n",
       "      <td>-1.670924</td>\n",
       "      <td>0.729692</td>\n",
       "    </tr>\n",
       "    <tr>\n",
       "      <th>1</th>\n",
       "      <td>-0.204502</td>\n",
       "      <td>1.129433</td>\n",
       "      <td>0</td>\n",
       "      <td>0</td>\n",
       "      <td>1</td>\n",
       "      <td>0</td>\n",
       "      <td>0.582503</td>\n",
       "      <td>0</td>\n",
       "      <td>0</td>\n",
       "      <td>1</td>\n",
       "      <td>...</td>\n",
       "      <td>0</td>\n",
       "      <td>0</td>\n",
       "      <td>0</td>\n",
       "      <td>0</td>\n",
       "      <td>0</td>\n",
       "      <td>0</td>\n",
       "      <td>0</td>\n",
       "      <td>0.661718</td>\n",
       "      <td>-0.018999</td>\n",
       "      <td>1.169332</td>\n",
       "    </tr>\n",
       "    <tr>\n",
       "      <th>2</th>\n",
       "      <td>-0.204502</td>\n",
       "      <td>-1.426541</td>\n",
       "      <td>1</td>\n",
       "      <td>0</td>\n",
       "      <td>0</td>\n",
       "      <td>0</td>\n",
       "      <td>0.358711</td>\n",
       "      <td>0</td>\n",
       "      <td>0</td>\n",
       "      <td>0</td>\n",
       "      <td>...</td>\n",
       "      <td>0</td>\n",
       "      <td>0</td>\n",
       "      <td>0</td>\n",
       "      <td>0</td>\n",
       "      <td>0</td>\n",
       "      <td>0</td>\n",
       "      <td>0</td>\n",
       "      <td>-0.182590</td>\n",
       "      <td>-0.727777</td>\n",
       "      <td>-1.292399</td>\n",
       "    </tr>\n",
       "    <tr>\n",
       "      <th>3</th>\n",
       "      <td>1.032236</td>\n",
       "      <td>-0.304038</td>\n",
       "      <td>1</td>\n",
       "      <td>0</td>\n",
       "      <td>0</td>\n",
       "      <td>0</td>\n",
       "      <td>0.100361</td>\n",
       "      <td>0</td>\n",
       "      <td>0</td>\n",
       "      <td>0</td>\n",
       "      <td>...</td>\n",
       "      <td>0</td>\n",
       "      <td>0</td>\n",
       "      <td>0</td>\n",
       "      <td>0</td>\n",
       "      <td>0</td>\n",
       "      <td>0</td>\n",
       "      <td>0</td>\n",
       "      <td>-0.318703</td>\n",
       "      <td>0.060835</td>\n",
       "      <td>-0.716135</td>\n",
       "    </tr>\n",
       "    <tr>\n",
       "      <th>4</th>\n",
       "      <td>-0.204502</td>\n",
       "      <td>1.262656</td>\n",
       "      <td>0</td>\n",
       "      <td>0</td>\n",
       "      <td>1</td>\n",
       "      <td>0</td>\n",
       "      <td>0.956481</td>\n",
       "      <td>0</td>\n",
       "      <td>0</td>\n",
       "      <td>0</td>\n",
       "      <td>...</td>\n",
       "      <td>0</td>\n",
       "      <td>0</td>\n",
       "      <td>0</td>\n",
       "      <td>0</td>\n",
       "      <td>0</td>\n",
       "      <td>0</td>\n",
       "      <td>0</td>\n",
       "      <td>1.569280</td>\n",
       "      <td>-0.782778</td>\n",
       "      <td>1.297704</td>\n",
       "    </tr>\n",
       "  </tbody>\n",
       "</table>\n",
       "<p>5 rows × 57 columns</p>\n",
       "</div>"
      ]
     },
     "execution_count": 20,
     "metadata": {},
     "output_type": "execute_result"
    }
   ],
   "execution_count": 20
  },
  {
   "cell_type": "code",
   "source": [
    "# Split the dataset into test and validation sets\n",
    "X_tr,X_va,y_tr,y_va = train_test_split(X_trf,y_trf,test_size = 0.3, shuffle=True,random_state = 23,stratify=y_trf)\n",
    "print(type(X_tr))"
   ],
   "metadata": {
    "id": "ix8XfErxN9nc",
    "colab": {
     "base_uri": "https://localhost:8080/"
    },
    "outputId": "2bf7b3a3-0152-4419-dc4c-83898cfd4529",
    "ExecuteTime": {
     "end_time": "2024-10-28T22:24:30.421921Z",
     "start_time": "2024-10-28T22:24:30.369686Z"
    }
   },
   "outputs": [
    {
     "name": "stdout",
     "output_type": "stream",
     "text": [
      "<class 'pandas.core.frame.DataFrame'>\n"
     ]
    }
   ],
   "execution_count": 21
  },
  {
   "cell_type": "code",
   "source": [
    "import numpy as np\n",
    "import torch\n",
    "import torch.nn as nn\n",
    "import torch.optim as optim\n",
    "from torch.utils.data import Dataset,DataLoader, SubsetRandomSampler,Dataset,Subset\n",
    "from torchmetrics import AUROC\n"
   ],
   "metadata": {
    "id": "HbgebMk9zuGo",
    "ExecuteTime": {
     "end_time": "2024-10-28T22:30:22.610059Z",
     "start_time": "2024-10-28T22:30:22.101263Z"
    }
   },
   "outputs": [],
   "execution_count": 23
  },
  {
   "cell_type": "code",
   "source": [
    "class CustomDataset(Dataset):\n",
    "    def __init__(self, data, labels):\n",
    "        self.data = data\n",
    "        self.labels = labels\n",
    "    def __len__(self):\n",
    "        return len(self.data)\n",
    "    def __getitem__(self, idx):\n",
    "        return self.data[idx], self.labels[idx]\n",
    "\n",
    "Xt = torch.tensor(X_tr.values,dtype=torch.float32)\n",
    "yt = torch.tensor(y_tr.values,dtype=torch.float32).reshape(-1,1)\n",
    "\n",
    "t_dataset = CustomDataset(Xt,yt)\n",
    "t_dataloader = DataLoader(t_dataset, batch_size=32, shuffle=False)\n",
    "\n",
    "Xv = torch.tensor(X_va.values,dtype=torch.float32)\n",
    "yv = torch.tensor(y_va.values,dtype=torch.float32).reshape(-1,1)\n",
    "\n",
    "v_dataset = CustomDataset(Xv,yv)\n",
    "v_dataloader = DataLoader(v_dataset, batch_size=32, shuffle=False)\n",
    "\n",
    "Xtest = torch.tensor(X_tef.values,dtype=torch.float32)"
   ],
   "metadata": {
    "id": "MAhb6ybxKHZJ",
    "ExecuteTime": {
     "end_time": "2024-10-28T22:30:34.398985Z",
     "start_time": "2024-10-28T22:30:34.348571Z"
    }
   },
   "outputs": [],
   "execution_count": 24
  },
  {
   "cell_type": "code",
   "source": [
    "model = nn.Sequential(\n",
    "    nn.Linear(X_tr.shape[1], 40),\n",
    "    nn.ReLU(),\n",
    "    nn.Dropout(0.3),\n",
    "    nn.Linear(40, 20),\n",
    "    nn.ReLU(),\n",
    "    nn.Dropout(0.3),\n",
    "    nn.Linear(20, 10),\n",
    "    nn.ReLU(),\n",
    "    nn.Dropout(0.3),\n",
    "    nn.Linear(10, 1),\n",
    "    nn.Sigmoid())\n",
    "print(model)\n",
    "\n",
    "loss_fn = nn.BCELoss()  # binary cross entropy\n",
    "optimizer = optim.Adam(model.parameters(), lr=0.0001)"
   ],
   "metadata": {
    "colab": {
     "base_uri": "https://localhost:8080/"
    },
    "id": "zSNHbp8y1a3X",
    "outputId": "ed401022-a9b5-4156-8392-4cf69bd992d3",
    "ExecuteTime": {
     "end_time": "2024-10-28T22:30:43.519160Z",
     "start_time": "2024-10-28T22:30:43.508529Z"
    }
   },
   "outputs": [
    {
     "name": "stdout",
     "output_type": "stream",
     "text": [
      "Sequential(\n",
      "  (0): Linear(in_features=57, out_features=40, bias=True)\n",
      "  (1): ReLU()\n",
      "  (2): Dropout(p=0.3, inplace=False)\n",
      "  (3): Linear(in_features=40, out_features=20, bias=True)\n",
      "  (4): ReLU()\n",
      "  (5): Dropout(p=0.3, inplace=False)\n",
      "  (6): Linear(in_features=20, out_features=10, bias=True)\n",
      "  (7): ReLU()\n",
      "  (8): Dropout(p=0.3, inplace=False)\n",
      "  (9): Linear(in_features=10, out_features=1, bias=True)\n",
      "  (10): Sigmoid()\n",
      ")\n"
     ]
    }
   ],
   "execution_count": 25
  },
  {
   "cell_type": "code",
   "source": [
    "# Number of epochs\n",
    "num_epochs = 50\n",
    "t_losses = []\n",
    "v_losses = []\n",
    "for epoch in range(num_epochs):\n",
    "    # Training loop\n",
    "    model.train()\n",
    "    epoch_loss = 0\n",
    "    for batch_idx, (data, target) in enumerate(t_dataloader):\n",
    "        # Train your model on the batch\n",
    "        optimizer.zero_grad()\n",
    "        output = model(data)\n",
    "        loss = loss_fn(output, target)\n",
    "        loss.backward()\n",
    "        optimizer.step()\n",
    "        epoch_loss += loss.item()\n",
    "    print(f'Finished epoch {epoch}, latest training loss {loss.item()}')\n",
    "    t_losses.append(epoch_loss/len(t_dataloader))\n",
    "\n",
    "    # Validation loop\n",
    "    model.eval()\n",
    "    epoch_loss = 0\n",
    "    with torch.no_grad():\n",
    "        for data, target in v_dataloader:\n",
    "            # Evaluate your model on the validation set\n",
    "            output = model(data)\n",
    "            loss = loss_fn(output,target)\n",
    "            # ... calculate validation metrics\n",
    "            epoch_loss += loss.item()\n",
    "    print(f'latest validation loss {loss.item()}')\n",
    "    v_losses.append(epoch_loss/len(v_dataloader))\n",
    "\n",
    "# Plot the learning curves\n",
    "plt.plot(t_losses, label='Training Loss')\n",
    "plt.plot(v_losses, label='Validation Loss')\n",
    "plt.xlabel('Epoch')\n",
    "plt.ylabel('Loss')\n",
    "plt.legend()\n",
    "plt.show()\n",
    "\n",
    "# Calculate ROC AUC\n",
    "auroc = AUROC(task=\"binary\")\n",
    "auroc_value = auroc(output,target)\n",
    "print(f'The ROC AUC is {auroc_value}')"
   ],
   "metadata": {
    "colab": {
     "base_uri": "https://localhost:8080/",
     "height": 1000
    },
    "id": "XYfftf1ENeIr",
    "outputId": "5b47e337-d965-4f03-d2e3-2d0bd6da4742",
    "ExecuteTime": {
     "end_time": "2024-10-28T22:32:01.456005Z",
     "start_time": "2024-10-28T22:31:19.045303Z"
    }
   },
   "outputs": [
    {
     "name": "stdout",
     "output_type": "stream",
     "text": [
      "Finished epoch 0, latest training loss 0.334068238735199\n",
      "latest validation loss 0.2382361888885498\n",
      "Finished epoch 1, latest training loss 0.34814170002937317\n",
      "latest validation loss 0.22291377186775208\n",
      "Finished epoch 2, latest training loss 0.31563249230384827\n",
      "latest validation loss 0.2053418904542923\n",
      "Finished epoch 3, latest training loss 0.3251212239265442\n",
      "latest validation loss 0.19017860293388367\n",
      "Finished epoch 4, latest training loss 0.3431396484375\n",
      "latest validation loss 0.1705491989850998\n",
      "Finished epoch 5, latest training loss 0.37881332635879517\n",
      "latest validation loss 0.1556241512298584\n",
      "Finished epoch 6, latest training loss 0.34067651629447937\n",
      "latest validation loss 0.1485372632741928\n",
      "Finished epoch 7, latest training loss 0.38655123114585876\n",
      "latest validation loss 0.14350555837154388\n",
      "Finished epoch 8, latest training loss 0.34587445855140686\n",
      "latest validation loss 0.141627699136734\n",
      "Finished epoch 9, latest training loss 0.39004793763160706\n",
      "latest validation loss 0.13774991035461426\n",
      "Finished epoch 10, latest training loss 0.34174710512161255\n",
      "latest validation loss 0.13571076095104218\n",
      "Finished epoch 11, latest training loss 0.28796929121017456\n",
      "latest validation loss 0.13629598915576935\n",
      "Finished epoch 12, latest training loss 0.4609678387641907\n",
      "latest validation loss 0.13891716301441193\n",
      "Finished epoch 13, latest training loss 0.36354851722717285\n",
      "latest validation loss 0.13888892531394958\n",
      "Finished epoch 14, latest training loss 0.300380140542984\n",
      "latest validation loss 0.1401607096195221\n",
      "Finished epoch 15, latest training loss 0.3726126253604889\n",
      "latest validation loss 0.1421218365430832\n",
      "Finished epoch 16, latest training loss 0.28192999958992004\n",
      "latest validation loss 0.14167103171348572\n",
      "Finished epoch 17, latest training loss 0.24238340556621552\n",
      "latest validation loss 0.14125829935073853\n",
      "Finished epoch 18, latest training loss 0.3667342960834503\n",
      "latest validation loss 0.13426703214645386\n",
      "Finished epoch 19, latest training loss 0.266015887260437\n",
      "latest validation loss 0.13363860547542572\n",
      "Finished epoch 20, latest training loss 0.3017522692680359\n",
      "latest validation loss 0.1372818648815155\n",
      "Finished epoch 21, latest training loss 0.3516133427619934\n",
      "latest validation loss 0.13511104881763458\n",
      "Finished epoch 22, latest training loss 0.310499370098114\n",
      "latest validation loss 0.12528249621391296\n",
      "Finished epoch 23, latest training loss 0.33513733744621277\n",
      "latest validation loss 0.11954335868358612\n",
      "Finished epoch 24, latest training loss 0.36779576539993286\n",
      "latest validation loss 0.11718136817216873\n",
      "Finished epoch 25, latest training loss 0.28998905420303345\n",
      "latest validation loss 0.1176716759800911\n",
      "Finished epoch 26, latest training loss 0.3149193823337555\n",
      "latest validation loss 0.11773812025785446\n",
      "Finished epoch 27, latest training loss 0.30166932940483093\n",
      "latest validation loss 0.11545870453119278\n",
      "Finished epoch 28, latest training loss 0.31833112239837646\n",
      "latest validation loss 0.10925529897212982\n",
      "Finished epoch 29, latest training loss 0.36797967553138733\n",
      "latest validation loss 0.10149203985929489\n",
      "Finished epoch 30, latest training loss 0.3580404818058014\n",
      "latest validation loss 0.09528309106826782\n",
      "Finished epoch 31, latest training loss 0.30046671628952026\n",
      "latest validation loss 0.09467363357543945\n",
      "Finished epoch 32, latest training loss 0.32341933250427246\n",
      "latest validation loss 0.09388821572065353\n",
      "Finished epoch 33, latest training loss 0.39733967185020447\n",
      "latest validation loss 0.08362305164337158\n",
      "Finished epoch 34, latest training loss 0.35703977942466736\n",
      "latest validation loss 0.07442796230316162\n",
      "Finished epoch 35, latest training loss 0.30646422505378723\n",
      "latest validation loss 0.07307769358158112\n",
      "Finished epoch 36, latest training loss 0.3138044476509094\n",
      "latest validation loss 0.0733480453491211\n",
      "Finished epoch 37, latest training loss 0.2887672483921051\n",
      "latest validation loss 0.07275327295064926\n",
      "Finished epoch 38, latest training loss 0.372778058052063\n",
      "latest validation loss 0.07685710489749908\n",
      "Finished epoch 39, latest training loss 0.31663137674331665\n",
      "latest validation loss 0.07077334821224213\n",
      "Finished epoch 40, latest training loss 0.3126068115234375\n",
      "latest validation loss 0.07420327514410019\n",
      "Finished epoch 41, latest training loss 0.34010663628578186\n",
      "latest validation loss 0.0746278315782547\n",
      "Finished epoch 42, latest training loss 0.31694507598876953\n",
      "latest validation loss 0.07289338856935501\n",
      "Finished epoch 43, latest training loss 0.2655961811542511\n",
      "latest validation loss 0.06828660517930984\n",
      "Finished epoch 44, latest training loss 0.31240618228912354\n",
      "latest validation loss 0.07088833302259445\n",
      "Finished epoch 45, latest training loss 0.2568548619747162\n",
      "latest validation loss 0.07082178443670273\n",
      "Finished epoch 46, latest training loss 0.3355066478252411\n",
      "latest validation loss 0.06604982912540436\n",
      "Finished epoch 47, latest training loss 0.24794664978981018\n",
      "latest validation loss 0.06304416805505753\n",
      "Finished epoch 48, latest training loss 0.2785778045654297\n",
      "latest validation loss 0.059885092079639435\n",
      "Finished epoch 49, latest training loss 0.3039928674697876\n",
      "latest validation loss 0.06816045939922333\n"
     ]
    },
    {
     "data": {
      "text/plain": [
       "<Figure size 432x288 with 1 Axes>"
      ],
      "image/png": "[encoded data removed]"
     },
     "metadata": {},
     "output_type": "display_data"
    },
    {
     "name": "stderr",
     "output_type": "stream",
     "text": [
      "/Users/algh/Library/Python/3.6/lib/python/site-packages/torchmetrics/utilities/prints.py:36: UserWarning: Metric `AUROC` will save all targets and predictions in buffer. For large datasets this may lead to large memory footprint.\n",
      "  warnings.warn(*args, **kwargs)\n"
     ]
    },
    {
     "ename": "ValueError",
     "evalue": "The `target` has to be an integer tensor.",
     "output_type": "error",
     "traceback": [
      "\u001B[0;31m---------------------------------------------------------------------------\u001B[0m",
      "\u001B[0;31mValueError\u001B[0m                                Traceback (most recent call last)",
      "\u001B[0;32m<ipython-input-26-3ae5d1d0d685>\u001B[0m in \u001B[0;36m<module>\u001B[0;34m\u001B[0m\n\u001B[1;32m     41\u001B[0m \u001B[0;31m# Calculate ROC AUC\u001B[0m\u001B[0;34m\u001B[0m\u001B[0;34m\u001B[0m\u001B[0;34m\u001B[0m\u001B[0m\n\u001B[1;32m     42\u001B[0m \u001B[0mauroc\u001B[0m \u001B[0;34m=\u001B[0m \u001B[0mAUROC\u001B[0m\u001B[0;34m(\u001B[0m\u001B[0mtask\u001B[0m\u001B[0;34m=\u001B[0m\u001B[0;34m\"binary\"\u001B[0m\u001B[0;34m)\u001B[0m\u001B[0;34m\u001B[0m\u001B[0;34m\u001B[0m\u001B[0m\n\u001B[0;32m---> 43\u001B[0;31m \u001B[0mauroc_value\u001B[0m \u001B[0;34m=\u001B[0m \u001B[0mauroc\u001B[0m\u001B[0;34m(\u001B[0m\u001B[0moutput\u001B[0m\u001B[0;34m,\u001B[0m\u001B[0mtarget\u001B[0m\u001B[0;34m)\u001B[0m\u001B[0;34m\u001B[0m\u001B[0;34m\u001B[0m\u001B[0m\n\u001B[0m\u001B[1;32m     44\u001B[0m \u001B[0mprint\u001B[0m\u001B[0;34m(\u001B[0m\u001B[0;34mf'The ROC AUC is {auroc_value}'\u001B[0m\u001B[0;34m)\u001B[0m\u001B[0;34m\u001B[0m\u001B[0;34m\u001B[0m\u001B[0m\n",
      "\u001B[0;32m~/Library/Python/3.6/lib/python/site-packages/torch/nn/modules/module.py\u001B[0m in \u001B[0;36m_call_impl\u001B[0;34m(self, *input, **kwargs)\u001B[0m\n\u001B[1;32m   1100\u001B[0m         if not (self._backward_hooks or self._forward_hooks or self._forward_pre_hooks or _global_backward_hooks\n\u001B[1;32m   1101\u001B[0m                 or _global_forward_hooks or _global_forward_pre_hooks):\n\u001B[0;32m-> 1102\u001B[0;31m             \u001B[0;32mreturn\u001B[0m \u001B[0mforward_call\u001B[0m\u001B[0;34m(\u001B[0m\u001B[0;34m*\u001B[0m\u001B[0minput\u001B[0m\u001B[0;34m,\u001B[0m \u001B[0;34m**\u001B[0m\u001B[0mkwargs\u001B[0m\u001B[0;34m)\u001B[0m\u001B[0;34m\u001B[0m\u001B[0;34m\u001B[0m\u001B[0m\n\u001B[0m\u001B[1;32m   1103\u001B[0m         \u001B[0;31m# Do not call functions when jit is used\u001B[0m\u001B[0;34m\u001B[0m\u001B[0;34m\u001B[0m\u001B[0;34m\u001B[0m\u001B[0m\n\u001B[1;32m   1104\u001B[0m         \u001B[0mfull_backward_hooks\u001B[0m\u001B[0;34m,\u001B[0m \u001B[0mnon_full_backward_hooks\u001B[0m \u001B[0;34m=\u001B[0m \u001B[0;34m[\u001B[0m\u001B[0;34m]\u001B[0m\u001B[0;34m,\u001B[0m \u001B[0;34m[\u001B[0m\u001B[0;34m]\u001B[0m\u001B[0;34m\u001B[0m\u001B[0;34m\u001B[0m\u001B[0m\n",
      "\u001B[0;32m~/Library/Python/3.6/lib/python/site-packages/torchmetrics/metric.py\u001B[0m in \u001B[0;36mforward\u001B[0;34m(self, *args, **kwargs)\u001B[0m\n\u001B[1;32m    246\u001B[0m \u001B[0;34m\u001B[0m\u001B[0m\n\u001B[1;32m    247\u001B[0m         \u001B[0;31m# global accumulation\u001B[0m\u001B[0;34m\u001B[0m\u001B[0;34m\u001B[0m\u001B[0;34m\u001B[0m\u001B[0m\n\u001B[0;32m--> 248\u001B[0;31m         \u001B[0mself\u001B[0m\u001B[0;34m.\u001B[0m\u001B[0mupdate\u001B[0m\u001B[0;34m(\u001B[0m\u001B[0;34m*\u001B[0m\u001B[0margs\u001B[0m\u001B[0;34m,\u001B[0m \u001B[0;34m**\u001B[0m\u001B[0mkwargs\u001B[0m\u001B[0;34m)\u001B[0m\u001B[0;34m\u001B[0m\u001B[0;34m\u001B[0m\u001B[0m\n\u001B[0m\u001B[1;32m    249\u001B[0m \u001B[0;34m\u001B[0m\u001B[0m\n\u001B[1;32m    250\u001B[0m         \u001B[0mself\u001B[0m\u001B[0;34m.\u001B[0m\u001B[0m_to_sync\u001B[0m \u001B[0;34m=\u001B[0m \u001B[0mself\u001B[0m\u001B[0;34m.\u001B[0m\u001B[0mdist_sync_on_step\u001B[0m  \u001B[0;31m# type: ignore\u001B[0m\u001B[0;34m\u001B[0m\u001B[0;34m\u001B[0m\u001B[0m\n",
      "\u001B[0;32m~/Library/Python/3.6/lib/python/site-packages/torchmetrics/metric.py\u001B[0m in \u001B[0;36mwrapped_func\u001B[0;34m(*args, **kwargs)\u001B[0m\n\u001B[1;32m    310\u001B[0m             \u001B[0mself\u001B[0m\u001B[0;34m.\u001B[0m\u001B[0m_update_called\u001B[0m \u001B[0;34m=\u001B[0m \u001B[0;32mTrue\u001B[0m\u001B[0;34m\u001B[0m\u001B[0;34m\u001B[0m\u001B[0m\n\u001B[1;32m    311\u001B[0m             \u001B[0;32mwith\u001B[0m \u001B[0mtorch\u001B[0m\u001B[0;34m.\u001B[0m\u001B[0mset_grad_enabled\u001B[0m\u001B[0;34m(\u001B[0m\u001B[0mself\u001B[0m\u001B[0;34m.\u001B[0m\u001B[0m_enable_grad\u001B[0m\u001B[0;34m)\u001B[0m\u001B[0;34m:\u001B[0m\u001B[0;34m\u001B[0m\u001B[0;34m\u001B[0m\u001B[0m\n\u001B[0;32m--> 312\u001B[0;31m                 \u001B[0mupdate\u001B[0m\u001B[0;34m(\u001B[0m\u001B[0;34m*\u001B[0m\u001B[0margs\u001B[0m\u001B[0;34m,\u001B[0m \u001B[0;34m**\u001B[0m\u001B[0mkwargs\u001B[0m\u001B[0;34m)\u001B[0m\u001B[0;34m\u001B[0m\u001B[0;34m\u001B[0m\u001B[0m\n\u001B[0m\u001B[1;32m    313\u001B[0m             \u001B[0;32mif\u001B[0m \u001B[0mself\u001B[0m\u001B[0;34m.\u001B[0m\u001B[0mcompute_on_cpu\u001B[0m\u001B[0;34m:\u001B[0m\u001B[0;34m\u001B[0m\u001B[0;34m\u001B[0m\u001B[0m\n\u001B[1;32m    314\u001B[0m                 \u001B[0mself\u001B[0m\u001B[0;34m.\u001B[0m\u001B[0m_move_list_states_to_cpu\u001B[0m\u001B[0;34m(\u001B[0m\u001B[0;34m)\u001B[0m\u001B[0;34m\u001B[0m\u001B[0;34m\u001B[0m\u001B[0m\n",
      "\u001B[0;32m~/Library/Python/3.6/lib/python/site-packages/torchmetrics/classification/auroc.py\u001B[0m in \u001B[0;36mupdate\u001B[0;34m(self, preds, target)\u001B[0m\n\u001B[1;32m    155\u001B[0m             \u001B[0mtarget\u001B[0m\u001B[0;34m:\u001B[0m \u001B[0mGround\u001B[0m \u001B[0mtruth\u001B[0m \u001B[0mlabels\u001B[0m\u001B[0;34m\u001B[0m\u001B[0;34m\u001B[0m\u001B[0m\n\u001B[1;32m    156\u001B[0m         \"\"\"\n\u001B[0;32m--> 157\u001B[0;31m         \u001B[0mpreds\u001B[0m\u001B[0;34m,\u001B[0m \u001B[0mtarget\u001B[0m\u001B[0;34m,\u001B[0m \u001B[0mmode\u001B[0m \u001B[0;34m=\u001B[0m \u001B[0m_auroc_update\u001B[0m\u001B[0;34m(\u001B[0m\u001B[0mpreds\u001B[0m\u001B[0;34m,\u001B[0m \u001B[0mtarget\u001B[0m\u001B[0;34m)\u001B[0m\u001B[0;34m\u001B[0m\u001B[0;34m\u001B[0m\u001B[0m\n\u001B[0m\u001B[1;32m    158\u001B[0m \u001B[0;34m\u001B[0m\u001B[0m\n\u001B[1;32m    159\u001B[0m         \u001B[0mself\u001B[0m\u001B[0;34m.\u001B[0m\u001B[0mpreds\u001B[0m\u001B[0;34m.\u001B[0m\u001B[0mappend\u001B[0m\u001B[0;34m(\u001B[0m\u001B[0mpreds\u001B[0m\u001B[0;34m)\u001B[0m\u001B[0;34m\u001B[0m\u001B[0;34m\u001B[0m\u001B[0m\n",
      "\u001B[0;32m~/Library/Python/3.6/lib/python/site-packages/torchmetrics/functional/classification/auroc.py\u001B[0m in \u001B[0;36m_auroc_update\u001B[0;34m(preds, target)\u001B[0m\n\u001B[1;32m     36\u001B[0m \u001B[0;34m\u001B[0m\u001B[0m\n\u001B[1;32m     37\u001B[0m     \u001B[0;31m# use _input_format_classification for validating the input and get the mode of data\u001B[0m\u001B[0;34m\u001B[0m\u001B[0;34m\u001B[0m\u001B[0;34m\u001B[0m\u001B[0m\n\u001B[0;32m---> 38\u001B[0;31m     \u001B[0m_\u001B[0m\u001B[0;34m,\u001B[0m \u001B[0m_\u001B[0m\u001B[0;34m,\u001B[0m \u001B[0mmode\u001B[0m \u001B[0;34m=\u001B[0m \u001B[0m_input_format_classification\u001B[0m\u001B[0;34m(\u001B[0m\u001B[0mpreds\u001B[0m\u001B[0;34m,\u001B[0m \u001B[0mtarget\u001B[0m\u001B[0;34m)\u001B[0m\u001B[0;34m\u001B[0m\u001B[0;34m\u001B[0m\u001B[0m\n\u001B[0m\u001B[1;32m     39\u001B[0m \u001B[0;34m\u001B[0m\u001B[0m\n\u001B[1;32m     40\u001B[0m     \u001B[0;32mif\u001B[0m \u001B[0mmode\u001B[0m \u001B[0;34m==\u001B[0m \u001B[0;34m\"multi class multi dim\"\u001B[0m\u001B[0;34m:\u001B[0m\u001B[0;34m\u001B[0m\u001B[0;34m\u001B[0m\u001B[0m\n",
      "\u001B[0;32m~/Library/Python/3.6/lib/python/site-packages/torchmetrics/utilities/checks.py\u001B[0m in \u001B[0;36m_input_format_classification\u001B[0;34m(preds, target, threshold, top_k, num_classes, multiclass, ignore_index)\u001B[0m\n\u001B[1;32m    412\u001B[0m         \u001B[0mmulticlass\u001B[0m\u001B[0;34m=\u001B[0m\u001B[0mmulticlass\u001B[0m\u001B[0;34m,\u001B[0m\u001B[0;34m\u001B[0m\u001B[0;34m\u001B[0m\u001B[0m\n\u001B[1;32m    413\u001B[0m         \u001B[0mtop_k\u001B[0m\u001B[0;34m=\u001B[0m\u001B[0mtop_k\u001B[0m\u001B[0;34m,\u001B[0m\u001B[0;34m\u001B[0m\u001B[0;34m\u001B[0m\u001B[0m\n\u001B[0;32m--> 414\u001B[0;31m         \u001B[0mignore_index\u001B[0m\u001B[0;34m=\u001B[0m\u001B[0mignore_index\u001B[0m\u001B[0;34m,\u001B[0m\u001B[0;34m\u001B[0m\u001B[0;34m\u001B[0m\u001B[0m\n\u001B[0m\u001B[1;32m    415\u001B[0m     )\n\u001B[1;32m    416\u001B[0m \u001B[0;34m\u001B[0m\u001B[0m\n",
      "\u001B[0;32m~/Library/Python/3.6/lib/python/site-packages/torchmetrics/utilities/checks.py\u001B[0m in \u001B[0;36m_check_classification_inputs\u001B[0;34m(preds, target, threshold, num_classes, multiclass, top_k, ignore_index)\u001B[0m\n\u001B[1;32m    263\u001B[0m \u001B[0;34m\u001B[0m\u001B[0m\n\u001B[1;32m    264\u001B[0m     \u001B[0;31m# Basic validation (that does not need case/type information)\u001B[0m\u001B[0;34m\u001B[0m\u001B[0;34m\u001B[0m\u001B[0;34m\u001B[0m\u001B[0m\n\u001B[0;32m--> 265\u001B[0;31m     \u001B[0m_basic_input_validation\u001B[0m\u001B[0;34m(\u001B[0m\u001B[0mpreds\u001B[0m\u001B[0;34m,\u001B[0m \u001B[0mtarget\u001B[0m\u001B[0;34m,\u001B[0m \u001B[0mthreshold\u001B[0m\u001B[0;34m,\u001B[0m \u001B[0mmulticlass\u001B[0m\u001B[0;34m,\u001B[0m \u001B[0mignore_index\u001B[0m\u001B[0;34m)\u001B[0m\u001B[0;34m\u001B[0m\u001B[0;34m\u001B[0m\u001B[0m\n\u001B[0m\u001B[1;32m    266\u001B[0m \u001B[0;34m\u001B[0m\u001B[0m\n\u001B[1;32m    267\u001B[0m     \u001B[0;31m# Check that shape/types fall into one of the cases\u001B[0m\u001B[0;34m\u001B[0m\u001B[0;34m\u001B[0m\u001B[0;34m\u001B[0m\u001B[0m\n",
      "\u001B[0;32m~/Library/Python/3.6/lib/python/site-packages/torchmetrics/utilities/checks.py\u001B[0m in \u001B[0;36m_basic_input_validation\u001B[0;34m(preds, target, threshold, multiclass, ignore_index)\u001B[0m\n\u001B[1;32m     42\u001B[0m \u001B[0;34m\u001B[0m\u001B[0m\n\u001B[1;32m     43\u001B[0m     \u001B[0;32mif\u001B[0m \u001B[0mtarget\u001B[0m\u001B[0;34m.\u001B[0m\u001B[0mis_floating_point\u001B[0m\u001B[0;34m(\u001B[0m\u001B[0;34m)\u001B[0m\u001B[0;34m:\u001B[0m\u001B[0;34m\u001B[0m\u001B[0;34m\u001B[0m\u001B[0m\n\u001B[0;32m---> 44\u001B[0;31m         \u001B[0;32mraise\u001B[0m \u001B[0mValueError\u001B[0m\u001B[0;34m(\u001B[0m\u001B[0;34m\"The `target` has to be an integer tensor.\"\u001B[0m\u001B[0;34m)\u001B[0m\u001B[0;34m\u001B[0m\u001B[0;34m\u001B[0m\u001B[0m\n\u001B[0m\u001B[1;32m     45\u001B[0m \u001B[0;34m\u001B[0m\u001B[0m\n\u001B[1;32m     46\u001B[0m     \u001B[0;32mif\u001B[0m \u001B[0mignore_index\u001B[0m \u001B[0;32mis\u001B[0m \u001B[0;32mNone\u001B[0m \u001B[0;32mand\u001B[0m \u001B[0mtarget\u001B[0m\u001B[0;34m.\u001B[0m\u001B[0mmin\u001B[0m\u001B[0;34m(\u001B[0m\u001B[0;34m)\u001B[0m \u001B[0;34m<\u001B[0m \u001B[0;36m0\u001B[0m\u001B[0;34m:\u001B[0m\u001B[0;34m\u001B[0m\u001B[0;34m\u001B[0m\u001B[0m\n",
      "\u001B[0;31mValueError\u001B[0m: The `target` has to be an integer tensor."
     ]
    }
   ],
   "execution_count": 26
  },
  {
   "cell_type": "code",
   "source": [
    "# prepare the final prediction output for submission\n",
    "model.eval()\n",
    "y_final = model(Xtest)\n",
    "y_final_np = y_final.detach().numpy()\n",
    "df = pd.DataFrame(y_final_np,dtype=float,columns=['loan_status'])\n",
    "test_id_col = test_id_col.sort_values(by='id')\n",
    "final = pd.concat([test_id_col,df],axis=1)\n",
    "final.to_csv('submission.csv', index=False)"
   ],
   "metadata": {
    "id": "A7ZG7JzwdGTZ",
    "ExecuteTime": {
     "end_time": "2024-10-28T22:32:55.597180Z",
     "start_time": "2024-10-28T22:32:55.474071Z"
    }
   },
   "outputs": [],
   "execution_count": 27
  }
 ]
}
