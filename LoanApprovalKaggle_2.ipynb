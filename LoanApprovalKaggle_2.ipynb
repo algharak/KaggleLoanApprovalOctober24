{
 "nbformat": 4,
 "nbformat_minor": 0,
 "metadata": {
  "colab": {
   "provenance": []
  },
  "kernelspec": {
   "name": "python3",
   "display_name": "Python 3",
   "language": "python"
  },
  "language_info": {
   "name": "python"
  }
 },
 "cells": [
  {
   "cell_type": "code",
   "metadata": {
    "id": "f2-iY_vbme1b",
    "colab": {
     "base_uri": "https://localhost:8080/"
    },
    "outputId": "0bfd1eff-3fcc-49c8-ed26-96fe5baeb1e3",
    "ExecuteTime": {
     "end_time": "2024-10-31T02:14:17.809567Z",
     "start_time": "2024-10-31T02:14:17.636407Z"
    }
   },
   "source": [
    "# Import the necessary modules\n",
    "import pandas as pd\n",
    "import numpy as np\n",
    "import seaborn as sns\n",
    "from sklearn.model_selection import train_test_split, GridSearchCV, cross_val_score\n",
    "from sklearn.compose import make_column_transformer, ColumnTransformer\n",
    "from sklearn.pipeline import Pipeline, make_pipeline\n",
    "from sklearn.preprocessing import OrdinalEncoder, StandardScaler, OneHotEncoder\n",
    "from xgboost import XGBClassifier\n",
    "import matplotlib.pyplot as plt\n"
   ],
   "outputs": [
    {
     "ename": "XGBoostError",
     "evalue": "\nXGBoost Library (libxgboost.dylib) could not be loaded.\nLikely causes:\n  * OpenMP runtime is not installed\n    - vcomp140.dll or libgomp-1.dll for Windows\n    - libomp.dylib for Mac OSX\n    - libgomp.so for Linux and other UNIX-like OSes\n    Mac OSX users: Run `brew install libomp` to install OpenMP runtime.\n\n  * You are running 32-bit Python on a 64-bit OS\n\nError message(s): [\"dlopen(/Users/algh/als_code/KaggleLoanApprovalOctober24/venv/lib/python3.13/site-packages/xgboost/lib/libxgboost.dylib, 0x0006): Library not loaded: '@rpath/libomp.dylib'\\n  Referenced from: '/Users/algh/als_code/KaggleLoanApprovalOctober24/venv/lib/python3.13/site-packages/xgboost/lib/libxgboost.dylib'\\n  Reason: tried: '/opt/homebrew/opt/libomp/lib/libomp.dylib' (no such file), '/opt/homebrew/opt/libomp/lib/libomp.dylib' (no such file), '/usr/lib/libomp.dylib' (no such file)\"]\n",
     "output_type": "error",
     "traceback": [
      "\u001B[0;31m---------------------------------------------------------------------------\u001B[0m",
      "\u001B[0;31mXGBoostError\u001B[0m                              Traceback (most recent call last)",
      "Cell \u001B[0;32mIn[34], line 9\u001B[0m\n\u001B[1;32m      7\u001B[0m \u001B[38;5;28;01mfrom\u001B[39;00m \u001B[38;5;21;01msklearn\u001B[39;00m\u001B[38;5;21;01m.\u001B[39;00m\u001B[38;5;21;01mpipeline\u001B[39;00m \u001B[38;5;28;01mimport\u001B[39;00m Pipeline, make_pipeline\n\u001B[1;32m      8\u001B[0m \u001B[38;5;28;01mfrom\u001B[39;00m \u001B[38;5;21;01msklearn\u001B[39;00m\u001B[38;5;21;01m.\u001B[39;00m\u001B[38;5;21;01mpreprocessing\u001B[39;00m \u001B[38;5;28;01mimport\u001B[39;00m OrdinalEncoder, StandardScaler, OneHotEncoder\n\u001B[0;32m----> 9\u001B[0m \u001B[38;5;28;01mfrom\u001B[39;00m \u001B[38;5;21;01mxgboost\u001B[39;00m \u001B[38;5;28;01mimport\u001B[39;00m XGBClassifier\n\u001B[1;32m     10\u001B[0m \u001B[38;5;28;01mimport\u001B[39;00m \u001B[38;5;21;01mmatplotlib\u001B[39;00m\u001B[38;5;21;01m.\u001B[39;00m\u001B[38;5;21;01mpyplot\u001B[39;00m \u001B[38;5;28;01mas\u001B[39;00m \u001B[38;5;21;01mplt\u001B[39;00m\n",
      "File \u001B[0;32m~/als_code/KaggleLoanApprovalOctober24/venv/lib/python3.13/site-packages/xgboost/__init__.py:6\u001B[0m\n\u001B[1;32m      1\u001B[0m \u001B[38;5;124;03m\"\"\"XGBoost: eXtreme Gradient Boosting library.\u001B[39;00m\n\u001B[1;32m      2\u001B[0m \n\u001B[1;32m      3\u001B[0m \u001B[38;5;124;03mContributors: https://github.com/dmlc/xgboost/blob/master/CONTRIBUTORS.md\u001B[39;00m\n\u001B[1;32m      4\u001B[0m \u001B[38;5;124;03m\"\"\"\u001B[39;00m\n\u001B[0;32m----> 6\u001B[0m \u001B[38;5;28;01mfrom\u001B[39;00m \u001B[38;5;21;01m.\u001B[39;00m \u001B[38;5;28;01mimport\u001B[39;00m tracker  \u001B[38;5;66;03m# noqa\u001B[39;00m\n\u001B[1;32m      7\u001B[0m \u001B[38;5;28;01mfrom\u001B[39;00m \u001B[38;5;21;01m.\u001B[39;00m \u001B[38;5;28;01mimport\u001B[39;00m collective, dask\n\u001B[1;32m      8\u001B[0m \u001B[38;5;28;01mfrom\u001B[39;00m \u001B[38;5;21;01m.\u001B[39;00m\u001B[38;5;21;01mcore\u001B[39;00m \u001B[38;5;28;01mimport\u001B[39;00m (\n\u001B[1;32m      9\u001B[0m     Booster,\n\u001B[1;32m     10\u001B[0m     DataIter,\n\u001B[0;32m   (...)\u001B[0m\n\u001B[1;32m     15\u001B[0m     build_info,\n\u001B[1;32m     16\u001B[0m )\n",
      "File \u001B[0;32m~/als_code/KaggleLoanApprovalOctober24/venv/lib/python3.13/site-packages/xgboost/tracker.py:9\u001B[0m\n\u001B[1;32m      6\u001B[0m \u001B[38;5;28;01mfrom\u001B[39;00m \u001B[38;5;21;01menum\u001B[39;00m \u001B[38;5;28;01mimport\u001B[39;00m IntEnum, unique\n\u001B[1;32m      7\u001B[0m \u001B[38;5;28;01mfrom\u001B[39;00m \u001B[38;5;21;01mtyping\u001B[39;00m \u001B[38;5;28;01mimport\u001B[39;00m Dict, Optional, Union\n\u001B[0;32m----> 9\u001B[0m \u001B[38;5;28;01mfrom\u001B[39;00m \u001B[38;5;21;01m.\u001B[39;00m\u001B[38;5;21;01mcore\u001B[39;00m \u001B[38;5;28;01mimport\u001B[39;00m _LIB, _check_call, make_jcargs\n\u001B[1;32m     12\u001B[0m \u001B[38;5;28;01mdef\u001B[39;00m \u001B[38;5;21mget_family\u001B[39m(addr: \u001B[38;5;28mstr\u001B[39m) \u001B[38;5;241m-\u001B[39m\u001B[38;5;241m>\u001B[39m \u001B[38;5;28mint\u001B[39m:\n\u001B[1;32m     13\u001B[0m \u001B[38;5;250m    \u001B[39m\u001B[38;5;124;03m\"\"\"Get network family from address.\"\"\"\u001B[39;00m\n",
      "File \u001B[0;32m~/als_code/KaggleLoanApprovalOctober24/venv/lib/python3.13/site-packages/xgboost/core.py:269\u001B[0m\n\u001B[1;32m    265\u001B[0m     \u001B[38;5;28;01mreturn\u001B[39;00m lib\n\u001B[1;32m    268\u001B[0m \u001B[38;5;66;03m# load the XGBoost library globally\u001B[39;00m\n\u001B[0;32m--> 269\u001B[0m _LIB \u001B[38;5;241m=\u001B[39m \u001B[43m_load_lib\u001B[49m\u001B[43m(\u001B[49m\u001B[43m)\u001B[49m\n\u001B[1;32m    272\u001B[0m \u001B[38;5;28;01mdef\u001B[39;00m \u001B[38;5;21m_check_call\u001B[39m(ret: \u001B[38;5;28mint\u001B[39m) \u001B[38;5;241m-\u001B[39m\u001B[38;5;241m>\u001B[39m \u001B[38;5;28;01mNone\u001B[39;00m:\n\u001B[1;32m    273\u001B[0m \u001B[38;5;250m    \u001B[39m\u001B[38;5;124;03m\"\"\"Check the return value of C API call\u001B[39;00m\n\u001B[1;32m    274\u001B[0m \n\u001B[1;32m    275\u001B[0m \u001B[38;5;124;03m    This function will raise exception when error occurs.\u001B[39;00m\n\u001B[0;32m   (...)\u001B[0m\n\u001B[1;32m    281\u001B[0m \u001B[38;5;124;03m        return value from API calls\u001B[39;00m\n\u001B[1;32m    282\u001B[0m \u001B[38;5;124;03m    \"\"\"\u001B[39;00m\n",
      "File \u001B[0;32m~/als_code/KaggleLoanApprovalOctober24/venv/lib/python3.13/site-packages/xgboost/core.py:222\u001B[0m, in \u001B[0;36m_load_lib\u001B[0;34m()\u001B[0m\n\u001B[1;32m    220\u001B[0m     \u001B[38;5;28;01mif\u001B[39;00m \u001B[38;5;129;01mnot\u001B[39;00m lib_success:\n\u001B[1;32m    221\u001B[0m         libname \u001B[38;5;241m=\u001B[39m os\u001B[38;5;241m.\u001B[39mpath\u001B[38;5;241m.\u001B[39mbasename(lib_paths[\u001B[38;5;241m0\u001B[39m])\n\u001B[0;32m--> 222\u001B[0m         \u001B[38;5;28;01mraise\u001B[39;00m XGBoostError(\n\u001B[1;32m    223\u001B[0m             \u001B[38;5;124mf\u001B[39m\u001B[38;5;124m\"\"\"\u001B[39m\n\u001B[1;32m    224\u001B[0m \u001B[38;5;124mXGBoost Library (\u001B[39m\u001B[38;5;132;01m{\u001B[39;00mlibname\u001B[38;5;132;01m}\u001B[39;00m\u001B[38;5;124m) could not be loaded.\u001B[39m\n\u001B[1;32m    225\u001B[0m \u001B[38;5;124mLikely causes:\u001B[39m\n\u001B[1;32m    226\u001B[0m \u001B[38;5;124m  * OpenMP runtime is not installed\u001B[39m\n\u001B[1;32m    227\u001B[0m \u001B[38;5;124m    - vcomp140.dll or libgomp-1.dll for Windows\u001B[39m\n\u001B[1;32m    228\u001B[0m \u001B[38;5;124m    - libomp.dylib for Mac OSX\u001B[39m\n\u001B[1;32m    229\u001B[0m \u001B[38;5;124m    - libgomp.so for Linux and other UNIX-like OSes\u001B[39m\n\u001B[1;32m    230\u001B[0m \u001B[38;5;124m    Mac OSX users: Run `brew install libomp` to install OpenMP runtime.\u001B[39m\n\u001B[1;32m    231\u001B[0m \n\u001B[1;32m    232\u001B[0m \u001B[38;5;124m  * You are running 32-bit Python on a 64-bit OS\u001B[39m\n\u001B[1;32m    233\u001B[0m \n\u001B[1;32m    234\u001B[0m \u001B[38;5;124mError message(s): \u001B[39m\u001B[38;5;132;01m{\u001B[39;00mos_error_list\u001B[38;5;132;01m}\u001B[39;00m\n\u001B[1;32m    235\u001B[0m \u001B[38;5;124m\"\"\"\u001B[39m\n\u001B[1;32m    236\u001B[0m         )\n\u001B[1;32m    237\u001B[0m     _register_log_callback(lib)\n\u001B[1;32m    239\u001B[0m     \u001B[38;5;28;01mdef\u001B[39;00m \u001B[38;5;21mparse\u001B[39m(ver: \u001B[38;5;28mstr\u001B[39m) \u001B[38;5;241m-\u001B[39m\u001B[38;5;241m>\u001B[39m Tuple[\u001B[38;5;28mint\u001B[39m, \u001B[38;5;28mint\u001B[39m, \u001B[38;5;28mint\u001B[39m]:\n",
      "\u001B[0;31mXGBoostError\u001B[0m: \nXGBoost Library (libxgboost.dylib) could not be loaded.\nLikely causes:\n  * OpenMP runtime is not installed\n    - vcomp140.dll or libgomp-1.dll for Windows\n    - libomp.dylib for Mac OSX\n    - libgomp.so for Linux and other UNIX-like OSes\n    Mac OSX users: Run `brew install libomp` to install OpenMP runtime.\n\n  * You are running 32-bit Python on a 64-bit OS\n\nError message(s): [\"dlopen(/Users/algh/als_code/KaggleLoanApprovalOctober24/venv/lib/python3.13/site-packages/xgboost/lib/libxgboost.dylib, 0x0006): Library not loaded: '@rpath/libomp.dylib'\\n  Referenced from: '/Users/algh/als_code/KaggleLoanApprovalOctober24/venv/lib/python3.13/site-packages/xgboost/lib/libxgboost.dylib'\\n  Reason: tried: '/opt/homebrew/opt/libomp/lib/libomp.dylib' (no such file), '/opt/homebrew/opt/libomp/lib/libomp.dylib' (no such file), '/usr/lib/libomp.dylib' (no such file)\"]\n"
     ]
    }
   ],
   "execution_count": 34
  },
  {
   "cell_type": "code",
   "source": [
    "# Read train and test datasets into pandas dataframes\n",
    "train_path = './data/train.csv'\n",
    "test_path = './data/test.csv'\n",
    "original_path = './data/credit_risk_dataset.csv'\n",
    "train_df = pd.read_csv(train_path)\n",
    "original_df = pd.read_csv(original_path)\n",
    "test_df = pd.read_csv(test_path)"
   ],
   "metadata": {
    "id": "f31yEPrLoCs_",
    "ExecuteTime": {
     "end_time": "2024-10-31T02:10:50.480838Z",
     "start_time": "2024-10-31T02:10:50.305217Z"
    }
   },
   "outputs": [],
   "execution_count": 18
  },
  {
   "metadata": {
    "ExecuteTime": {
     "end_time": "2024-10-31T02:10:51.842481Z",
     "start_time": "2024-10-31T02:10:51.801020Z"
    }
   },
   "cell_type": "code",
   "source": [
    "# Add the original dataset to the training set\n",
    "train_df = pd.concat([train_df,original_df],axis=0)"
   ],
   "outputs": [],
   "execution_count": 19
  },
  {
   "metadata": {
    "ExecuteTime": {
     "end_time": "2024-10-31T02:10:54.138541Z",
     "start_time": "2024-10-31T02:10:54.102489Z"
    }
   },
   "cell_type": "code",
   "source": [
    "# Check to see if there are NAs in the training and test datasets\n",
    "train_df.isna().sum().sum()\n",
    "test_df.isna().sum().sum()"
   ],
   "outputs": [
    {
     "data": {
      "text/plain": [
       "np.int64(0)"
      ]
     },
     "execution_count": 20,
     "metadata": {},
     "output_type": "execute_result"
    }
   ],
   "execution_count": 20
  },
  {
   "cell_type": "code",
   "source": [
    "# Function to plot histogram of the features and the target\n",
    "def plot_histplot_for_train_df(x):\n",
    "   plt.figure(figsize=(5, 3))\n",
    "   sns.histplot(data=train_df, x=x)\n",
    "   plt.show()"
   ],
   "metadata": {
    "id": "XXJEeWKOrprx",
    "ExecuteTime": {
     "end_time": "2024-10-31T02:11:08.171016Z",
     "start_time": "2024-10-31T02:11:08.162636Z"
    }
   },
   "outputs": [],
   "execution_count": 21
  },
  {
   "cell_type": "code",
   "source": [
    "# Plot histogram of various columns\n",
    "plot_histplot_for_train_df('loan_amnt')\n",
    "plot_histplot_for_train_df('loan_int_rate')\n",
    "plot_histplot_for_train_df('loan_percent_income')\n",
    "plot_histplot_for_train_df('cb_person_cred_hist_length')\n",
    "plot_histplot_for_train_df('cb_person_default_on_file')\n",
    "plot_histplot_for_train_df('loan_grade')\n",
    "plot_histplot_for_train_df('loan_intent')\n",
    "plot_histplot_for_train_df('person_emp_length')\n",
    "plot_histplot_for_train_df('person_home_ownership')\n",
    "plot_histplot_for_train_df('person_income')\n",
    "plot_histplot_for_train_df('person_age')\n",
    "plot_histplot_for_train_df('loan_status')"
   ],
   "metadata": {
    "id": "EsHnA-_IuNxN",
    "ExecuteTime": {
     "end_time": "2024-10-31T02:11:10.495014Z",
     "start_time": "2024-10-31T02:11:09.171970Z"
    }
   },
   "outputs": [
    {
     "data": {
      "text/plain": [
       "<Figure size 500x300 with 1 Axes>"
      ],
      "image/png": "[encoded data removed]"
     },
     "metadata": {},
     "output_type": "display_data"
    },
    {
     "ename": "ValueError",
     "evalue": "cannot reindex on an axis with duplicate labels",
     "output_type": "error",
     "traceback": [
      "\u001B[0;31m---------------------------------------------------------------------------\u001B[0m",
      "\u001B[0;31mValueError\u001B[0m                                Traceback (most recent call last)",
      "Cell \u001B[0;32mIn[22], line 3\u001B[0m\n\u001B[1;32m      1\u001B[0m \u001B[38;5;66;03m# Plot histogram of various columns\u001B[39;00m\n\u001B[1;32m      2\u001B[0m plot_histplot_for_train_df(\u001B[38;5;124m'\u001B[39m\u001B[38;5;124mloan_amnt\u001B[39m\u001B[38;5;124m'\u001B[39m)\n\u001B[0;32m----> 3\u001B[0m \u001B[43mplot_histplot_for_train_df\u001B[49m\u001B[43m(\u001B[49m\u001B[38;5;124;43m'\u001B[39;49m\u001B[38;5;124;43mloan_int_rate\u001B[39;49m\u001B[38;5;124;43m'\u001B[39;49m\u001B[43m)\u001B[49m\n\u001B[1;32m      4\u001B[0m plot_histplot_for_train_df(\u001B[38;5;124m'\u001B[39m\u001B[38;5;124mloan_percent_income\u001B[39m\u001B[38;5;124m'\u001B[39m)\n\u001B[1;32m      5\u001B[0m plot_histplot_for_train_df(\u001B[38;5;124m'\u001B[39m\u001B[38;5;124mcb_person_cred_hist_length\u001B[39m\u001B[38;5;124m'\u001B[39m)\n",
      "Cell \u001B[0;32mIn[21], line 4\u001B[0m, in \u001B[0;36mplot_histplot_for_train_df\u001B[0;34m(x)\u001B[0m\n\u001B[1;32m      2\u001B[0m \u001B[38;5;28;01mdef\u001B[39;00m \u001B[38;5;21mplot_histplot_for_train_df\u001B[39m(x):\n\u001B[1;32m      3\u001B[0m    plt\u001B[38;5;241m.\u001B[39mfigure(figsize\u001B[38;5;241m=\u001B[39m(\u001B[38;5;241m5\u001B[39m, \u001B[38;5;241m3\u001B[39m))\n\u001B[0;32m----> 4\u001B[0m    \u001B[43msns\u001B[49m\u001B[38;5;241;43m.\u001B[39;49m\u001B[43mhistplot\u001B[49m\u001B[43m(\u001B[49m\u001B[43mdata\u001B[49m\u001B[38;5;241;43m=\u001B[39;49m\u001B[43mtrain_df\u001B[49m\u001B[43m,\u001B[49m\u001B[43m \u001B[49m\u001B[43mx\u001B[49m\u001B[38;5;241;43m=\u001B[39;49m\u001B[43mx\u001B[49m\u001B[43m)\u001B[49m\n\u001B[1;32m      5\u001B[0m    plt\u001B[38;5;241m.\u001B[39mshow()\n",
      "File \u001B[0;32m~/als_code/KaggleLoanApprovalOctober24/venv/lib/python3.13/site-packages/seaborn/distributions.py:1416\u001B[0m, in \u001B[0;36mhistplot\u001B[0;34m(data, x, y, hue, weights, stat, bins, binwidth, binrange, discrete, cumulative, common_bins, common_norm, multiple, element, fill, shrink, kde, kde_kws, line_kws, thresh, pthresh, pmax, cbar, cbar_ax, cbar_kws, palette, hue_order, hue_norm, color, log_scale, legend, ax, **kwargs)\u001B[0m\n\u001B[1;32m   1405\u001B[0m estimate_kws \u001B[38;5;241m=\u001B[39m \u001B[38;5;28mdict\u001B[39m(\n\u001B[1;32m   1406\u001B[0m     stat\u001B[38;5;241m=\u001B[39mstat,\n\u001B[1;32m   1407\u001B[0m     bins\u001B[38;5;241m=\u001B[39mbins,\n\u001B[0;32m   (...)\u001B[0m\n\u001B[1;32m   1411\u001B[0m     cumulative\u001B[38;5;241m=\u001B[39mcumulative,\n\u001B[1;32m   1412\u001B[0m )\n\u001B[1;32m   1414\u001B[0m \u001B[38;5;28;01mif\u001B[39;00m p\u001B[38;5;241m.\u001B[39munivariate:\n\u001B[0;32m-> 1416\u001B[0m     \u001B[43mp\u001B[49m\u001B[38;5;241;43m.\u001B[39;49m\u001B[43mplot_univariate_histogram\u001B[49m\u001B[43m(\u001B[49m\n\u001B[1;32m   1417\u001B[0m \u001B[43m        \u001B[49m\u001B[43mmultiple\u001B[49m\u001B[38;5;241;43m=\u001B[39;49m\u001B[43mmultiple\u001B[49m\u001B[43m,\u001B[49m\n\u001B[1;32m   1418\u001B[0m \u001B[43m        \u001B[49m\u001B[43melement\u001B[49m\u001B[38;5;241;43m=\u001B[39;49m\u001B[43melement\u001B[49m\u001B[43m,\u001B[49m\n\u001B[1;32m   1419\u001B[0m \u001B[43m        \u001B[49m\u001B[43mfill\u001B[49m\u001B[38;5;241;43m=\u001B[39;49m\u001B[43mfill\u001B[49m\u001B[43m,\u001B[49m\n\u001B[1;32m   1420\u001B[0m \u001B[43m        \u001B[49m\u001B[43mshrink\u001B[49m\u001B[38;5;241;43m=\u001B[39;49m\u001B[43mshrink\u001B[49m\u001B[43m,\u001B[49m\n\u001B[1;32m   1421\u001B[0m \u001B[43m        \u001B[49m\u001B[43mcommon_norm\u001B[49m\u001B[38;5;241;43m=\u001B[39;49m\u001B[43mcommon_norm\u001B[49m\u001B[43m,\u001B[49m\n\u001B[1;32m   1422\u001B[0m \u001B[43m        \u001B[49m\u001B[43mcommon_bins\u001B[49m\u001B[38;5;241;43m=\u001B[39;49m\u001B[43mcommon_bins\u001B[49m\u001B[43m,\u001B[49m\n\u001B[1;32m   1423\u001B[0m \u001B[43m        \u001B[49m\u001B[43mkde\u001B[49m\u001B[38;5;241;43m=\u001B[39;49m\u001B[43mkde\u001B[49m\u001B[43m,\u001B[49m\n\u001B[1;32m   1424\u001B[0m \u001B[43m        \u001B[49m\u001B[43mkde_kws\u001B[49m\u001B[38;5;241;43m=\u001B[39;49m\u001B[43mkde_kws\u001B[49m\u001B[43m,\u001B[49m\n\u001B[1;32m   1425\u001B[0m \u001B[43m        \u001B[49m\u001B[43mcolor\u001B[49m\u001B[38;5;241;43m=\u001B[39;49m\u001B[43mcolor\u001B[49m\u001B[43m,\u001B[49m\n\u001B[1;32m   1426\u001B[0m \u001B[43m        \u001B[49m\u001B[43mlegend\u001B[49m\u001B[38;5;241;43m=\u001B[39;49m\u001B[43mlegend\u001B[49m\u001B[43m,\u001B[49m\n\u001B[1;32m   1427\u001B[0m \u001B[43m        \u001B[49m\u001B[43mestimate_kws\u001B[49m\u001B[38;5;241;43m=\u001B[39;49m\u001B[43mestimate_kws\u001B[49m\u001B[43m,\u001B[49m\n\u001B[1;32m   1428\u001B[0m \u001B[43m        \u001B[49m\u001B[43mline_kws\u001B[49m\u001B[38;5;241;43m=\u001B[39;49m\u001B[43mline_kws\u001B[49m\u001B[43m,\u001B[49m\n\u001B[1;32m   1429\u001B[0m \u001B[43m        \u001B[49m\u001B[38;5;241;43m*\u001B[39;49m\u001B[38;5;241;43m*\u001B[39;49m\u001B[43mkwargs\u001B[49m\u001B[43m,\u001B[49m\n\u001B[1;32m   1430\u001B[0m \u001B[43m    \u001B[49m\u001B[43m)\u001B[49m\n\u001B[1;32m   1432\u001B[0m \u001B[38;5;28;01melse\u001B[39;00m:\n\u001B[1;32m   1434\u001B[0m     p\u001B[38;5;241m.\u001B[39mplot_bivariate_histogram(\n\u001B[1;32m   1435\u001B[0m         common_bins\u001B[38;5;241m=\u001B[39mcommon_bins,\n\u001B[1;32m   1436\u001B[0m         common_norm\u001B[38;5;241m=\u001B[39mcommon_norm,\n\u001B[0;32m   (...)\u001B[0m\n\u001B[1;32m   1446\u001B[0m         \u001B[38;5;241m*\u001B[39m\u001B[38;5;241m*\u001B[39mkwargs,\n\u001B[1;32m   1447\u001B[0m     )\n",
      "File \u001B[0;32m~/als_code/KaggleLoanApprovalOctober24/venv/lib/python3.13/site-packages/seaborn/distributions.py:427\u001B[0m, in \u001B[0;36m_DistributionPlotter.plot_univariate_histogram\u001B[0;34m(self, multiple, element, fill, common_norm, common_bins, shrink, kde, kde_kws, color, legend, line_kws, estimate_kws, **plot_kws)\u001B[0m\n\u001B[1;32m    424\u001B[0m histograms \u001B[38;5;241m=\u001B[39m {}\n\u001B[1;32m    426\u001B[0m \u001B[38;5;66;03m# Do pre-compute housekeeping related to multiple groups\u001B[39;00m\n\u001B[0;32m--> 427\u001B[0m all_data \u001B[38;5;241m=\u001B[39m \u001B[38;5;28;43mself\u001B[39;49m\u001B[38;5;241;43m.\u001B[39;49m\u001B[43mcomp_data\u001B[49m\u001B[38;5;241m.\u001B[39mdropna()\n\u001B[1;32m    428\u001B[0m all_weights \u001B[38;5;241m=\u001B[39m all_data\u001B[38;5;241m.\u001B[39mget(\u001B[38;5;124m\"\u001B[39m\u001B[38;5;124mweights\u001B[39m\u001B[38;5;124m\"\u001B[39m, \u001B[38;5;28;01mNone\u001B[39;00m)\n\u001B[1;32m    430\u001B[0m multiple_histograms \u001B[38;5;241m=\u001B[39m \u001B[38;5;28mset\u001B[39m(\u001B[38;5;28mself\u001B[39m\u001B[38;5;241m.\u001B[39mvariables) \u001B[38;5;241m-\u001B[39m {\u001B[38;5;124m\"\u001B[39m\u001B[38;5;124mx\u001B[39m\u001B[38;5;124m\"\u001B[39m, \u001B[38;5;124m\"\u001B[39m\u001B[38;5;124my\u001B[39m\u001B[38;5;124m\"\u001B[39m}\n",
      "File \u001B[0;32m~/als_code/KaggleLoanApprovalOctober24/venv/lib/python3.13/site-packages/seaborn/_base.py:1007\u001B[0m, in \u001B[0;36mVectorPlotter.comp_data\u001B[0;34m(self)\u001B[0m\n\u001B[1;32m   1005\u001B[0m         \u001B[38;5;28;01melse\u001B[39;00m:\n\u001B[1;32m   1006\u001B[0m             comp_col \u001B[38;5;241m=\u001B[39m pd\u001B[38;5;241m.\u001B[39mSeries(dtype\u001B[38;5;241m=\u001B[39m\u001B[38;5;28mfloat\u001B[39m, name\u001B[38;5;241m=\u001B[39mvar)\n\u001B[0;32m-> 1007\u001B[0m         \u001B[43mcomp_data\u001B[49m\u001B[38;5;241;43m.\u001B[39;49m\u001B[43minsert\u001B[49m\u001B[43m(\u001B[49m\u001B[38;5;241;43m0\u001B[39;49m\u001B[43m,\u001B[49m\u001B[43m \u001B[49m\u001B[43mvar\u001B[49m\u001B[43m,\u001B[49m\u001B[43m \u001B[49m\u001B[43mcomp_col\u001B[49m\u001B[43m)\u001B[49m\n\u001B[1;32m   1009\u001B[0m     \u001B[38;5;28mself\u001B[39m\u001B[38;5;241m.\u001B[39m_comp_data \u001B[38;5;241m=\u001B[39m comp_data\n\u001B[1;32m   1011\u001B[0m \u001B[38;5;28;01mreturn\u001B[39;00m \u001B[38;5;28mself\u001B[39m\u001B[38;5;241m.\u001B[39m_comp_data\n",
      "File \u001B[0;32m~/als_code/KaggleLoanApprovalOctober24/venv/lib/python3.13/site-packages/pandas/core/frame.py:5171\u001B[0m, in \u001B[0;36mDataFrame.insert\u001B[0;34m(self, loc, column, value, allow_duplicates)\u001B[0m\n\u001B[1;32m   5168\u001B[0m \u001B[38;5;28;01melif\u001B[39;00m \u001B[38;5;28misinstance\u001B[39m(value, DataFrame):\n\u001B[1;32m   5169\u001B[0m     value \u001B[38;5;241m=\u001B[39m value\u001B[38;5;241m.\u001B[39miloc[:, \u001B[38;5;241m0\u001B[39m]\n\u001B[0;32m-> 5171\u001B[0m value, refs \u001B[38;5;241m=\u001B[39m \u001B[38;5;28;43mself\u001B[39;49m\u001B[38;5;241;43m.\u001B[39;49m\u001B[43m_sanitize_column\u001B[49m\u001B[43m(\u001B[49m\u001B[43mvalue\u001B[49m\u001B[43m)\u001B[49m\n\u001B[1;32m   5172\u001B[0m \u001B[38;5;28mself\u001B[39m\u001B[38;5;241m.\u001B[39m_mgr\u001B[38;5;241m.\u001B[39minsert(loc, column, value, refs\u001B[38;5;241m=\u001B[39mrefs)\n",
      "File \u001B[0;32m~/als_code/KaggleLoanApprovalOctober24/venv/lib/python3.13/site-packages/pandas/core/frame.py:5263\u001B[0m, in \u001B[0;36mDataFrame._sanitize_column\u001B[0;34m(self, value)\u001B[0m\n\u001B[1;32m   5261\u001B[0m     \u001B[38;5;28;01mif\u001B[39;00m \u001B[38;5;129;01mnot\u001B[39;00m \u001B[38;5;28misinstance\u001B[39m(value, Series):\n\u001B[1;32m   5262\u001B[0m         value \u001B[38;5;241m=\u001B[39m Series(value)\n\u001B[0;32m-> 5263\u001B[0m     \u001B[38;5;28;01mreturn\u001B[39;00m \u001B[43m_reindex_for_setitem\u001B[49m\u001B[43m(\u001B[49m\u001B[43mvalue\u001B[49m\u001B[43m,\u001B[49m\u001B[43m \u001B[49m\u001B[38;5;28;43mself\u001B[39;49m\u001B[38;5;241;43m.\u001B[39;49m\u001B[43mindex\u001B[49m\u001B[43m)\u001B[49m\n\u001B[1;32m   5265\u001B[0m \u001B[38;5;28;01mif\u001B[39;00m is_list_like(value):\n\u001B[1;32m   5266\u001B[0m     com\u001B[38;5;241m.\u001B[39mrequire_length_match(value, \u001B[38;5;28mself\u001B[39m\u001B[38;5;241m.\u001B[39mindex)\n",
      "File \u001B[0;32m~/als_code/KaggleLoanApprovalOctober24/venv/lib/python3.13/site-packages/pandas/core/frame.py:12692\u001B[0m, in \u001B[0;36m_reindex_for_setitem\u001B[0;34m(value, index)\u001B[0m\n\u001B[1;32m  12688\u001B[0m \u001B[38;5;28;01mexcept\u001B[39;00m \u001B[38;5;167;01mValueError\u001B[39;00m \u001B[38;5;28;01mas\u001B[39;00m err:\n\u001B[1;32m  12689\u001B[0m     \u001B[38;5;66;03m# raised in MultiIndex.from_tuples, see test_insert_error_msmgs\u001B[39;00m\n\u001B[1;32m  12690\u001B[0m     \u001B[38;5;28;01mif\u001B[39;00m \u001B[38;5;129;01mnot\u001B[39;00m value\u001B[38;5;241m.\u001B[39mindex\u001B[38;5;241m.\u001B[39mis_unique:\n\u001B[1;32m  12691\u001B[0m         \u001B[38;5;66;03m# duplicate axis\u001B[39;00m\n\u001B[0;32m> 12692\u001B[0m         \u001B[38;5;28;01mraise\u001B[39;00m err\n\u001B[1;32m  12694\u001B[0m     \u001B[38;5;28;01mraise\u001B[39;00m \u001B[38;5;167;01mTypeError\u001B[39;00m(\n\u001B[1;32m  12695\u001B[0m         \u001B[38;5;124m\"\u001B[39m\u001B[38;5;124mincompatible index of inserted column with frame index\u001B[39m\u001B[38;5;124m\"\u001B[39m\n\u001B[1;32m  12696\u001B[0m     ) \u001B[38;5;28;01mfrom\u001B[39;00m \u001B[38;5;21;01merr\u001B[39;00m\n\u001B[1;32m  12697\u001B[0m \u001B[38;5;28;01mreturn\u001B[39;00m reindexed_value, \u001B[38;5;28;01mNone\u001B[39;00m\n",
      "File \u001B[0;32m~/als_code/KaggleLoanApprovalOctober24/venv/lib/python3.13/site-packages/pandas/core/frame.py:12687\u001B[0m, in \u001B[0;36m_reindex_for_setitem\u001B[0;34m(value, index)\u001B[0m\n\u001B[1;32m  12685\u001B[0m \u001B[38;5;66;03m# GH#4107\u001B[39;00m\n\u001B[1;32m  12686\u001B[0m \u001B[38;5;28;01mtry\u001B[39;00m:\n\u001B[0;32m> 12687\u001B[0m     reindexed_value \u001B[38;5;241m=\u001B[39m \u001B[43mvalue\u001B[49m\u001B[38;5;241;43m.\u001B[39;49m\u001B[43mreindex\u001B[49m\u001B[43m(\u001B[49m\u001B[43mindex\u001B[49m\u001B[43m)\u001B[49m\u001B[38;5;241m.\u001B[39m_values\n\u001B[1;32m  12688\u001B[0m \u001B[38;5;28;01mexcept\u001B[39;00m \u001B[38;5;167;01mValueError\u001B[39;00m \u001B[38;5;28;01mas\u001B[39;00m err:\n\u001B[1;32m  12689\u001B[0m     \u001B[38;5;66;03m# raised in MultiIndex.from_tuples, see test_insert_error_msmgs\u001B[39;00m\n\u001B[1;32m  12690\u001B[0m     \u001B[38;5;28;01mif\u001B[39;00m \u001B[38;5;129;01mnot\u001B[39;00m value\u001B[38;5;241m.\u001B[39mindex\u001B[38;5;241m.\u001B[39mis_unique:\n\u001B[1;32m  12691\u001B[0m         \u001B[38;5;66;03m# duplicate axis\u001B[39;00m\n",
      "File \u001B[0;32m~/als_code/KaggleLoanApprovalOctober24/venv/lib/python3.13/site-packages/pandas/core/series.py:5153\u001B[0m, in \u001B[0;36mSeries.reindex\u001B[0;34m(self, index, axis, method, copy, level, fill_value, limit, tolerance)\u001B[0m\n\u001B[1;32m   5136\u001B[0m \u001B[38;5;129m@doc\u001B[39m(\n\u001B[1;32m   5137\u001B[0m     NDFrame\u001B[38;5;241m.\u001B[39mreindex,  \u001B[38;5;66;03m# type: ignore[has-type]\u001B[39;00m\n\u001B[1;32m   5138\u001B[0m     klass\u001B[38;5;241m=\u001B[39m_shared_doc_kwargs[\u001B[38;5;124m\"\u001B[39m\u001B[38;5;124mklass\u001B[39m\u001B[38;5;124m\"\u001B[39m],\n\u001B[0;32m   (...)\u001B[0m\n\u001B[1;32m   5151\u001B[0m     tolerance\u001B[38;5;241m=\u001B[39m\u001B[38;5;28;01mNone\u001B[39;00m,\n\u001B[1;32m   5152\u001B[0m ) \u001B[38;5;241m-\u001B[39m\u001B[38;5;241m>\u001B[39m Series:\n\u001B[0;32m-> 5153\u001B[0m     \u001B[38;5;28;01mreturn\u001B[39;00m \u001B[38;5;28;43msuper\u001B[39;49m\u001B[43m(\u001B[49m\u001B[43m)\u001B[49m\u001B[38;5;241;43m.\u001B[39;49m\u001B[43mreindex\u001B[49m\u001B[43m(\u001B[49m\n\u001B[1;32m   5154\u001B[0m \u001B[43m        \u001B[49m\u001B[43mindex\u001B[49m\u001B[38;5;241;43m=\u001B[39;49m\u001B[43mindex\u001B[49m\u001B[43m,\u001B[49m\n\u001B[1;32m   5155\u001B[0m \u001B[43m        \u001B[49m\u001B[43mmethod\u001B[49m\u001B[38;5;241;43m=\u001B[39;49m\u001B[43mmethod\u001B[49m\u001B[43m,\u001B[49m\n\u001B[1;32m   5156\u001B[0m \u001B[43m        \u001B[49m\u001B[43mcopy\u001B[49m\u001B[38;5;241;43m=\u001B[39;49m\u001B[43mcopy\u001B[49m\u001B[43m,\u001B[49m\n\u001B[1;32m   5157\u001B[0m \u001B[43m        \u001B[49m\u001B[43mlevel\u001B[49m\u001B[38;5;241;43m=\u001B[39;49m\u001B[43mlevel\u001B[49m\u001B[43m,\u001B[49m\n\u001B[1;32m   5158\u001B[0m \u001B[43m        \u001B[49m\u001B[43mfill_value\u001B[49m\u001B[38;5;241;43m=\u001B[39;49m\u001B[43mfill_value\u001B[49m\u001B[43m,\u001B[49m\n\u001B[1;32m   5159\u001B[0m \u001B[43m        \u001B[49m\u001B[43mlimit\u001B[49m\u001B[38;5;241;43m=\u001B[39;49m\u001B[43mlimit\u001B[49m\u001B[43m,\u001B[49m\n\u001B[1;32m   5160\u001B[0m \u001B[43m        \u001B[49m\u001B[43mtolerance\u001B[49m\u001B[38;5;241;43m=\u001B[39;49m\u001B[43mtolerance\u001B[49m\u001B[43m,\u001B[49m\n\u001B[1;32m   5161\u001B[0m \u001B[43m    \u001B[49m\u001B[43m)\u001B[49m\n",
      "File \u001B[0;32m~/als_code/KaggleLoanApprovalOctober24/venv/lib/python3.13/site-packages/pandas/core/generic.py:5610\u001B[0m, in \u001B[0;36mNDFrame.reindex\u001B[0;34m(self, labels, index, columns, axis, method, copy, level, fill_value, limit, tolerance)\u001B[0m\n\u001B[1;32m   5607\u001B[0m     \u001B[38;5;28;01mreturn\u001B[39;00m \u001B[38;5;28mself\u001B[39m\u001B[38;5;241m.\u001B[39m_reindex_multi(axes, copy, fill_value)\n\u001B[1;32m   5609\u001B[0m \u001B[38;5;66;03m# perform the reindex on the axes\u001B[39;00m\n\u001B[0;32m-> 5610\u001B[0m \u001B[38;5;28;01mreturn\u001B[39;00m \u001B[38;5;28;43mself\u001B[39;49m\u001B[38;5;241;43m.\u001B[39;49m\u001B[43m_reindex_axes\u001B[49m\u001B[43m(\u001B[49m\n\u001B[1;32m   5611\u001B[0m \u001B[43m    \u001B[49m\u001B[43maxes\u001B[49m\u001B[43m,\u001B[49m\u001B[43m \u001B[49m\u001B[43mlevel\u001B[49m\u001B[43m,\u001B[49m\u001B[43m \u001B[49m\u001B[43mlimit\u001B[49m\u001B[43m,\u001B[49m\u001B[43m \u001B[49m\u001B[43mtolerance\u001B[49m\u001B[43m,\u001B[49m\u001B[43m \u001B[49m\u001B[43mmethod\u001B[49m\u001B[43m,\u001B[49m\u001B[43m \u001B[49m\u001B[43mfill_value\u001B[49m\u001B[43m,\u001B[49m\u001B[43m \u001B[49m\u001B[43mcopy\u001B[49m\n\u001B[1;32m   5612\u001B[0m \u001B[43m\u001B[49m\u001B[43m)\u001B[49m\u001B[38;5;241m.\u001B[39m__finalize__(\u001B[38;5;28mself\u001B[39m, method\u001B[38;5;241m=\u001B[39m\u001B[38;5;124m\"\u001B[39m\u001B[38;5;124mreindex\u001B[39m\u001B[38;5;124m\"\u001B[39m)\n",
      "File \u001B[0;32m~/als_code/KaggleLoanApprovalOctober24/venv/lib/python3.13/site-packages/pandas/core/generic.py:5633\u001B[0m, in \u001B[0;36mNDFrame._reindex_axes\u001B[0;34m(self, axes, level, limit, tolerance, method, fill_value, copy)\u001B[0m\n\u001B[1;32m   5630\u001B[0m     \u001B[38;5;28;01mcontinue\u001B[39;00m\n\u001B[1;32m   5632\u001B[0m ax \u001B[38;5;241m=\u001B[39m \u001B[38;5;28mself\u001B[39m\u001B[38;5;241m.\u001B[39m_get_axis(a)\n\u001B[0;32m-> 5633\u001B[0m new_index, indexer \u001B[38;5;241m=\u001B[39m \u001B[43max\u001B[49m\u001B[38;5;241;43m.\u001B[39;49m\u001B[43mreindex\u001B[49m\u001B[43m(\u001B[49m\n\u001B[1;32m   5634\u001B[0m \u001B[43m    \u001B[49m\u001B[43mlabels\u001B[49m\u001B[43m,\u001B[49m\u001B[43m \u001B[49m\u001B[43mlevel\u001B[49m\u001B[38;5;241;43m=\u001B[39;49m\u001B[43mlevel\u001B[49m\u001B[43m,\u001B[49m\u001B[43m \u001B[49m\u001B[43mlimit\u001B[49m\u001B[38;5;241;43m=\u001B[39;49m\u001B[43mlimit\u001B[49m\u001B[43m,\u001B[49m\u001B[43m \u001B[49m\u001B[43mtolerance\u001B[49m\u001B[38;5;241;43m=\u001B[39;49m\u001B[43mtolerance\u001B[49m\u001B[43m,\u001B[49m\u001B[43m \u001B[49m\u001B[43mmethod\u001B[49m\u001B[38;5;241;43m=\u001B[39;49m\u001B[43mmethod\u001B[49m\n\u001B[1;32m   5635\u001B[0m \u001B[43m\u001B[49m\u001B[43m)\u001B[49m\n\u001B[1;32m   5637\u001B[0m axis \u001B[38;5;241m=\u001B[39m \u001B[38;5;28mself\u001B[39m\u001B[38;5;241m.\u001B[39m_get_axis_number(a)\n\u001B[1;32m   5638\u001B[0m obj \u001B[38;5;241m=\u001B[39m obj\u001B[38;5;241m.\u001B[39m_reindex_with_indexers(\n\u001B[1;32m   5639\u001B[0m     {axis: [new_index, indexer]},\n\u001B[1;32m   5640\u001B[0m     fill_value\u001B[38;5;241m=\u001B[39mfill_value,\n\u001B[1;32m   5641\u001B[0m     copy\u001B[38;5;241m=\u001B[39mcopy,\n\u001B[1;32m   5642\u001B[0m     allow_dups\u001B[38;5;241m=\u001B[39m\u001B[38;5;28;01mFalse\u001B[39;00m,\n\u001B[1;32m   5643\u001B[0m )\n",
      "File \u001B[0;32m~/als_code/KaggleLoanApprovalOctober24/venv/lib/python3.13/site-packages/pandas/core/indexes/base.py:4429\u001B[0m, in \u001B[0;36mIndex.reindex\u001B[0;34m(self, target, method, level, limit, tolerance)\u001B[0m\n\u001B[1;32m   4426\u001B[0m     \u001B[38;5;28;01mraise\u001B[39;00m \u001B[38;5;167;01mValueError\u001B[39;00m(\u001B[38;5;124m\"\u001B[39m\u001B[38;5;124mcannot handle a non-unique multi-index!\u001B[39m\u001B[38;5;124m\"\u001B[39m)\n\u001B[1;32m   4427\u001B[0m \u001B[38;5;28;01melif\u001B[39;00m \u001B[38;5;129;01mnot\u001B[39;00m \u001B[38;5;28mself\u001B[39m\u001B[38;5;241m.\u001B[39mis_unique:\n\u001B[1;32m   4428\u001B[0m     \u001B[38;5;66;03m# GH#42568\u001B[39;00m\n\u001B[0;32m-> 4429\u001B[0m     \u001B[38;5;28;01mraise\u001B[39;00m \u001B[38;5;167;01mValueError\u001B[39;00m(\u001B[38;5;124m\"\u001B[39m\u001B[38;5;124mcannot reindex on an axis with duplicate labels\u001B[39m\u001B[38;5;124m\"\u001B[39m)\n\u001B[1;32m   4430\u001B[0m \u001B[38;5;28;01melse\u001B[39;00m:\n\u001B[1;32m   4431\u001B[0m     indexer, _ \u001B[38;5;241m=\u001B[39m \u001B[38;5;28mself\u001B[39m\u001B[38;5;241m.\u001B[39mget_indexer_non_unique(target)\n",
      "\u001B[0;31mValueError\u001B[0m: cannot reindex on an axis with duplicate labels"
     ]
    },
    {
     "data": {
      "text/plain": [
       "<Figure size 500x300 with 1 Axes>"
      ],
      "image/png": "[encoded data removed]"
     },
     "metadata": {},
     "output_type": "display_data"
    }
   ],
   "execution_count": 22
  },
  {
   "metadata": {
    "ExecuteTime": {
     "end_time": "2024-10-31T02:11:14.614741Z",
     "start_time": "2024-10-31T02:11:14.587377Z"
    }
   },
   "cell_type": "code",
   "source": [
    "# List the columns that contain NAs\n",
    "null_columns = train_df.columns[train_df.isnull().any()].tolist()\n",
    "print(null_columns)"
   ],
   "outputs": [
    {
     "name": "stdout",
     "output_type": "stream",
     "text": [
      "['id', 'person_emp_length', 'loan_int_rate']\n"
     ]
    }
   ],
   "execution_count": 23
  },
  {
   "metadata": {
    "ExecuteTime": {
     "end_time": "2024-10-31T02:11:21.794274Z",
     "start_time": "2024-10-31T02:11:21.774426Z"
    }
   },
   "cell_type": "code",
   "source": [
    "#   Replace NAs with column means\n",
    "mean_value_pel = train_df['person_emp_length'].mean()\n",
    "print(mean_value_pel)\n",
    "train_df['person_emp_length'].fillna(mean_value_pel, inplace=True)"
   ],
   "outputs": [
    {
     "name": "stdout",
     "output_type": "stream",
     "text": [
      "4.732118541807353\n"
     ]
    },
    {
     "name": "stderr",
     "output_type": "stream",
     "text": [
      "/var/folders/56/bh_39mb97fd0x5zggzv7g8c40000gn/T/ipykernel_59460/889202702.py:4: FutureWarning: A value is trying to be set on a copy of a DataFrame or Series through chained assignment using an inplace method.\n",
      "The behavior will change in pandas 3.0. This inplace method will never work because the intermediate object on which we are setting values always behaves as a copy.\n",
      "\n",
      "For example, when doing 'df[col].method(value, inplace=True)', try using 'df.method({col: value}, inplace=True)' or df[col] = df[col].method(value) instead, to perform the operation inplace on the original object.\n",
      "\n",
      "\n",
      "  train_df['person_emp_length'].fillna(mean_value_pel, inplace=True)\n"
     ]
    }
   ],
   "execution_count": 24
  },
  {
   "metadata": {
    "ExecuteTime": {
     "end_time": "2024-10-31T02:11:40.510781Z",
     "start_time": "2024-10-31T02:11:40.493605Z"
    }
   },
   "cell_type": "code",
   "source": [
    "#   Replace NAs with column means\n",
    "mean_value_lir = train_df['loan_int_rate'].mean()\n",
    "print(mean_value_lir)\n",
    "train_df['loan_int_rate'].fillna(mean_value_lir, inplace=True)"
   ],
   "outputs": [
    {
     "name": "stdout",
     "output_type": "stream",
     "text": [
      "10.789507887867437\n"
     ]
    },
    {
     "name": "stderr",
     "output_type": "stream",
     "text": [
      "/var/folders/56/bh_39mb97fd0x5zggzv7g8c40000gn/T/ipykernel_59460/4019073634.py:4: FutureWarning: A value is trying to be set on a copy of a DataFrame or Series through chained assignment using an inplace method.\n",
      "The behavior will change in pandas 3.0. This inplace method will never work because the intermediate object on which we are setting values always behaves as a copy.\n",
      "\n",
      "For example, when doing 'df[col].method(value, inplace=True)', try using 'df.method({col: value}, inplace=True)' or df[col] = df[col].method(value) instead, to perform the operation inplace on the original object.\n",
      "\n",
      "\n",
      "  train_df['loan_int_rate'].fillna(mean_value_lir, inplace=True)\n"
     ]
    }
   ],
   "execution_count": 25
  },
  {
   "cell_type": "code",
   "source": [
    "# create new features\n",
    "train_df['TotalInt_'] = train_df[\"loan_amnt\"]*train_df['loan_int_rate']\n",
    "train_df['Income_to_Int_'] = (train_df['person_income']*12)/(train_df[\"loan_amnt\"]*train_df['loan_int_rate'])\n",
    "train_df['Income_age_'] = train_df['person_income']/train_df[\"person_age\"]\n",
    "\n",
    "test_df['TotalInt_'] = test_df[\"loan_amnt\"]*test_df['loan_int_rate']\n",
    "test_df['Income_to_Int_'] = (test_df['person_income']*12)/(test_df[\"loan_amnt\"]*test_df['loan_int_rate'])\n",
    "test_df['Income_age_'] = test_df['person_income']/test_df[\"person_age\"]\n"
   ],
   "metadata": {
    "id": "Oh-OUdTlbhEv",
    "ExecuteTime": {
     "end_time": "2024-10-31T02:11:59.154944Z",
     "start_time": "2024-10-31T02:11:59.123525Z"
    }
   },
   "outputs": [],
   "execution_count": 26
  },
  {
   "cell_type": "code",
   "source": [
    "# Remove the outliers\n",
    "train_df = train_df.loc[train_df['person_emp_length']<40]\n",
    "train_df = train_df.loc[train_df['person_income']<500000]\n",
    "train_df = train_df.loc[train_df['person_age']<80]"
   ],
   "metadata": {
    "id": "ZkHUd8dmtVyL",
    "ExecuteTime": {
     "end_time": "2024-10-31T02:12:01.644212Z",
     "start_time": "2024-10-31T02:12:01.603273Z"
    }
   },
   "outputs": [],
   "execution_count": 27
  },
  {
   "cell_type": "code",
   "source": [
    "# List of numerical features\n",
    "log_num_cols = ['person_age', 'person_income',\n",
    "       'person_emp_length', 'loan_amnt','loan_int_rate', 'loan_percent_income', 'TotalInt_',\n",
    "       'Income_to_Int_', 'Income_age_','cb_person_cred_hist_length']"
   ],
   "metadata": {
    "id": "He9rcKQuy93K",
    "ExecuteTime": {
     "end_time": "2024-10-31T02:12:03.721936Z",
     "start_time": "2024-10-31T02:12:03.710414Z"
    }
   },
   "outputs": [],
   "execution_count": 28
  },
  {
   "cell_type": "code",
   "source": [
    "# Transform the numerical columns using Sklearn pipeline.  Take the log first and then apply standard scaling\n",
    "from sklearn.preprocessing import FunctionTransformer\n",
    "\n",
    "def log_transform(x):\n",
    "    return np.log1p(x)\n",
    "\n",
    "log_transformer = FunctionTransformer(log_transform)\n",
    "numeric_transformer = Pipeline(\n",
    "    steps=[(\"trans\",log_transformer) , (\"scaler\", StandardScaler())])\n",
    "preprocessor = ColumnTransformer(\n",
    "    transformers=[(\"num\", numeric_transformer, log_num_cols)])\n",
    "train_df[log_num_cols] = preprocessor.fit_transform(train_df)\n",
    "test_df[log_num_cols] = preprocessor.fit_transform(test_df)"
   ],
   "metadata": {
    "id": "KFDgFVAF2oXF",
    "ExecuteTime": {
     "end_time": "2024-10-31T02:12:05.249910Z",
     "start_time": "2024-10-31T02:12:05.193174Z"
    }
   },
   "outputs": [],
   "execution_count": 29
  },
  {
   "cell_type": "code",
   "source": [
    "#create train and validation sets in dataframe format\n",
    "X_trf = train_df.drop(['loan_status','id'], axis=1)\n",
    "y_trf = train_df['loan_status']\n",
    "test_id_col = test_df[['id']]         # for future use needed to generate the final submission\n",
    "X_tef = test_df.drop(['id'], axis=1)\n",
    "test_id_col.head()"
   ],
   "metadata": {
    "id": "BIC-Xv-UMM2M",
    "ExecuteTime": {
     "end_time": "2024-10-31T02:12:11.144891Z",
     "start_time": "2024-10-31T02:12:11.097445Z"
    }
   },
   "outputs": [
    {
     "data": {
      "text/plain": [
       "      id\n",
       "0  58645\n",
       "1  58646\n",
       "2  58647\n",
       "3  58648\n",
       "4  58649"
      ],
      "text/html": [
       "<div>\n",
       "<style scoped>\n",
       "    .dataframe tbody tr th:only-of-type {\n",
       "        vertical-align: middle;\n",
       "    }\n",
       "\n",
       "    .dataframe tbody tr th {\n",
       "        vertical-align: top;\n",
       "    }\n",
       "\n",
       "    .dataframe thead th {\n",
       "        text-align: right;\n",
       "    }\n",
       "</style>\n",
       "<table border=\"1\" class=\"dataframe\">\n",
       "  <thead>\n",
       "    <tr style=\"text-align: right;\">\n",
       "      <th></th>\n",
       "      <th>id</th>\n",
       "    </tr>\n",
       "  </thead>\n",
       "  <tbody>\n",
       "    <tr>\n",
       "      <th>0</th>\n",
       "      <td>58645</td>\n",
       "    </tr>\n",
       "    <tr>\n",
       "      <th>1</th>\n",
       "      <td>58646</td>\n",
       "    </tr>\n",
       "    <tr>\n",
       "      <th>2</th>\n",
       "      <td>58647</td>\n",
       "    </tr>\n",
       "    <tr>\n",
       "      <th>3</th>\n",
       "      <td>58648</td>\n",
       "    </tr>\n",
       "    <tr>\n",
       "      <th>4</th>\n",
       "      <td>58649</td>\n",
       "    </tr>\n",
       "  </tbody>\n",
       "</table>\n",
       "</div>"
      ]
     },
     "execution_count": 30,
     "metadata": {},
     "output_type": "execute_result"
    }
   ],
   "execution_count": 30
  },
  {
   "cell_type": "code",
   "source": [
    "# Encode the categorical features for both training and testing datasets.\n",
    "# from category_encoders.target_encoder import TargetEncoder\n",
    "# categ_cols = ['person_home_ownership','loan_intent', 'loan_grade',\n",
    "#        'cb_person_cred_hist_length','cb_person_default_on_file']\n",
    "# t_enc = TargetEncoder(cols=categ_cols)\n",
    "# t_enc.fit(X_trf, y_trf)\n",
    "# X_trf=t_enc.transform(X_trf)\n",
    "# X_tef=t_enc.transform(X_tef)\n",
    "# X_trf.head()"
   ],
   "metadata": {
    "id": "b-LF4HJCLYTP"
   },
   "execution_count": null,
   "outputs": []
  },
  {
   "cell_type": "code",
   "source": [
    "# Try one-hot-encoding instead of target encoding\n",
    "from category_encoders import OneHotEncoder\n",
    "categ_cols = ['person_home_ownership','loan_intent', 'loan_grade','cb_person_default_on_file']\n",
    "t_enc = OneHotEncoder(cols=categ_cols)\n",
    "t_enc.fit(X_trf, y_trf)\n",
    "X_trf=t_enc.transform(X_trf)\n",
    "X_tef=t_enc.transform(X_tef)\n",
    "X_tef.head()"
   ],
   "metadata": {
    "id": "d2KTF-evpDAn",
    "ExecuteTime": {
     "end_time": "2024-10-31T02:12:23.287509Z",
     "start_time": "2024-10-31T02:12:22.416950Z"
    }
   },
   "outputs": [
    {
     "data": {
      "text/plain": [
       "   person_age  person_income  person_home_ownership_1  \\\n",
       "0   -0.834542       0.403734                        1   \n",
       "1   -0.202259       1.129431                        0   \n",
       "2   -0.202259      -1.426545                        1   \n",
       "3    1.035238      -0.304034                        1   \n",
       "4   -0.202259       1.262653                        0   \n",
       "\n",
       "   person_home_ownership_2  person_home_ownership_3  person_home_ownership_4  \\\n",
       "0                        0                        0                        0   \n",
       "1                        0                        1                        0   \n",
       "2                        0                        0                        0   \n",
       "3                        0                        0                        0   \n",
       "4                        0                        1                        0   \n",
       "\n",
       "   person_emp_length  loan_intent_1  loan_intent_2  loan_intent_3  ...  \\\n",
       "0          -0.116040              0              0              0  ...   \n",
       "1           0.602402              0              0              1  ...   \n",
       "2           0.404501              0              0              0  ...   \n",
       "3           0.170434              0              0              0  ...   \n",
       "4           0.925043              0              0              0  ...   \n",
       "\n",
       "   loan_grade_7  loan_amnt  loan_int_rate  loan_percent_income  \\\n",
       "0             0   1.845821       1.483487             2.116966   \n",
       "1             0   0.412696       0.725998            -0.648285   \n",
       "2             0  -1.020288       1.788917            -0.297603   \n",
       "3             0  -0.145131      -0.480402            -0.182775   \n",
       "4             0   1.046853       1.606092            -0.068950   \n",
       "\n",
       "   cb_person_default_on_file_1  cb_person_default_on_file_2  \\\n",
       "0                            1                            0   \n",
       "1                            0                            1   \n",
       "2                            0                            1   \n",
       "3                            1                            0   \n",
       "4                            0                            1   \n",
       "\n",
       "   cb_person_cred_hist_length  TotalInt_  Income_to_Int_  Income_age_  \n",
       "0                   -1.288389   2.225840       -1.776994     0.729709  \n",
       "1                   -0.315083   0.661718        0.009457     1.169245  \n",
       "2                   -1.288389  -0.182584       -0.718944    -1.292423  \n",
       "3                    0.580444  -0.318696        0.089283    -0.716032  \n",
       "4                   -0.315083   1.569269       -0.777295     1.297582  \n",
       "\n",
       "[5 rows x 29 columns]"
      ],
      "text/html": [
       "<div>\n",
       "<style scoped>\n",
       "    .dataframe tbody tr th:only-of-type {\n",
       "        vertical-align: middle;\n",
       "    }\n",
       "\n",
       "    .dataframe tbody tr th {\n",
       "        vertical-align: top;\n",
       "    }\n",
       "\n",
       "    .dataframe thead th {\n",
       "        text-align: right;\n",
       "    }\n",
       "</style>\n",
       "<table border=\"1\" class=\"dataframe\">\n",
       "  <thead>\n",
       "    <tr style=\"text-align: right;\">\n",
       "      <th></th>\n",
       "      <th>person_age</th>\n",
       "      <th>person_income</th>\n",
       "      <th>person_home_ownership_1</th>\n",
       "      <th>person_home_ownership_2</th>\n",
       "      <th>person_home_ownership_3</th>\n",
       "      <th>person_home_ownership_4</th>\n",
       "      <th>person_emp_length</th>\n",
       "      <th>loan_intent_1</th>\n",
       "      <th>loan_intent_2</th>\n",
       "      <th>loan_intent_3</th>\n",
       "      <th>...</th>\n",
       "      <th>loan_grade_7</th>\n",
       "      <th>loan_amnt</th>\n",
       "      <th>loan_int_rate</th>\n",
       "      <th>loan_percent_income</th>\n",
       "      <th>cb_person_default_on_file_1</th>\n",
       "      <th>cb_person_default_on_file_2</th>\n",
       "      <th>cb_person_cred_hist_length</th>\n",
       "      <th>TotalInt_</th>\n",
       "      <th>Income_to_Int_</th>\n",
       "      <th>Income_age_</th>\n",
       "    </tr>\n",
       "  </thead>\n",
       "  <tbody>\n",
       "    <tr>\n",
       "      <th>0</th>\n",
       "      <td>-0.834542</td>\n",
       "      <td>0.403734</td>\n",
       "      <td>1</td>\n",
       "      <td>0</td>\n",
       "      <td>0</td>\n",
       "      <td>0</td>\n",
       "      <td>-0.116040</td>\n",
       "      <td>0</td>\n",
       "      <td>0</td>\n",
       "      <td>0</td>\n",
       "      <td>...</td>\n",
       "      <td>0</td>\n",
       "      <td>1.845821</td>\n",
       "      <td>1.483487</td>\n",
       "      <td>2.116966</td>\n",
       "      <td>1</td>\n",
       "      <td>0</td>\n",
       "      <td>-1.288389</td>\n",
       "      <td>2.225840</td>\n",
       "      <td>-1.776994</td>\n",
       "      <td>0.729709</td>\n",
       "    </tr>\n",
       "    <tr>\n",
       "      <th>1</th>\n",
       "      <td>-0.202259</td>\n",
       "      <td>1.129431</td>\n",
       "      <td>0</td>\n",
       "      <td>0</td>\n",
       "      <td>1</td>\n",
       "      <td>0</td>\n",
       "      <td>0.602402</td>\n",
       "      <td>0</td>\n",
       "      <td>0</td>\n",
       "      <td>1</td>\n",
       "      <td>...</td>\n",
       "      <td>0</td>\n",
       "      <td>0.412696</td>\n",
       "      <td>0.725998</td>\n",
       "      <td>-0.648285</td>\n",
       "      <td>0</td>\n",
       "      <td>1</td>\n",
       "      <td>-0.315083</td>\n",
       "      <td>0.661718</td>\n",
       "      <td>0.009457</td>\n",
       "      <td>1.169245</td>\n",
       "    </tr>\n",
       "    <tr>\n",
       "      <th>2</th>\n",
       "      <td>-0.202259</td>\n",
       "      <td>-1.426545</td>\n",
       "      <td>1</td>\n",
       "      <td>0</td>\n",
       "      <td>0</td>\n",
       "      <td>0</td>\n",
       "      <td>0.404501</td>\n",
       "      <td>0</td>\n",
       "      <td>0</td>\n",
       "      <td>0</td>\n",
       "      <td>...</td>\n",
       "      <td>0</td>\n",
       "      <td>-1.020288</td>\n",
       "      <td>1.788917</td>\n",
       "      <td>-0.297603</td>\n",
       "      <td>0</td>\n",
       "      <td>1</td>\n",
       "      <td>-1.288389</td>\n",
       "      <td>-0.182584</td>\n",
       "      <td>-0.718944</td>\n",
       "      <td>-1.292423</td>\n",
       "    </tr>\n",
       "    <tr>\n",
       "      <th>3</th>\n",
       "      <td>1.035238</td>\n",
       "      <td>-0.304034</td>\n",
       "      <td>1</td>\n",
       "      <td>0</td>\n",
       "      <td>0</td>\n",
       "      <td>0</td>\n",
       "      <td>0.170434</td>\n",
       "      <td>0</td>\n",
       "      <td>0</td>\n",
       "      <td>0</td>\n",
       "      <td>...</td>\n",
       "      <td>0</td>\n",
       "      <td>-0.145131</td>\n",
       "      <td>-0.480402</td>\n",
       "      <td>-0.182775</td>\n",
       "      <td>1</td>\n",
       "      <td>0</td>\n",
       "      <td>0.580444</td>\n",
       "      <td>-0.318696</td>\n",
       "      <td>0.089283</td>\n",
       "      <td>-0.716032</td>\n",
       "    </tr>\n",
       "    <tr>\n",
       "      <th>4</th>\n",
       "      <td>-0.202259</td>\n",
       "      <td>1.262653</td>\n",
       "      <td>0</td>\n",
       "      <td>0</td>\n",
       "      <td>1</td>\n",
       "      <td>0</td>\n",
       "      <td>0.925043</td>\n",
       "      <td>0</td>\n",
       "      <td>0</td>\n",
       "      <td>0</td>\n",
       "      <td>...</td>\n",
       "      <td>0</td>\n",
       "      <td>1.046853</td>\n",
       "      <td>1.606092</td>\n",
       "      <td>-0.068950</td>\n",
       "      <td>0</td>\n",
       "      <td>1</td>\n",
       "      <td>-0.315083</td>\n",
       "      <td>1.569269</td>\n",
       "      <td>-0.777295</td>\n",
       "      <td>1.297582</td>\n",
       "    </tr>\n",
       "  </tbody>\n",
       "</table>\n",
       "<p>5 rows × 29 columns</p>\n",
       "</div>"
      ]
     },
     "execution_count": 31,
     "metadata": {},
     "output_type": "execute_result"
    }
   ],
   "execution_count": 31
  },
  {
   "cell_type": "code",
   "source": [
    "# Split the training dataset into test and validation sets\n",
    "X_tr,X_va,y_tr,y_va = train_test_split(X_trf,y_trf,test_size = 0.2, shuffle=True,random_state = 23,stratify=y_trf)"
   ],
   "metadata": {
    "id": "ix8XfErxN9nc",
    "ExecuteTime": {
     "end_time": "2024-10-31T02:12:26.210524Z",
     "start_time": "2024-10-31T02:12:26.161934Z"
    }
   },
   "outputs": [],
   "execution_count": 32
  },
  {
   "cell_type": "code",
   "source": [
    "# correlation_matrix = train_df.corr(numeric_only=True)\n",
    "# plt.figure(figsize=(20,12))\n",
    "# sns.heatmap(correlation_matrix, annot=True, cmap='coolwarm', fmt=\".2f\")"
   ],
   "metadata": {
    "id": "tOupkAYy41hM"
   },
   "execution_count": null,
   "outputs": []
  },
  {
   "cell_type": "code",
   "source": [
    "# remove redundant features\n",
    "# train_df.columns\n",
    "# train_df = train_df.drop('person_emp_length',axis=1)\n",
    "# train_df.head()"
   ],
   "metadata": {
    "id": "i_cMTPCTarxn"
   },
   "execution_count": null,
   "outputs": []
  },
  {
   "cell_type": "code",
   "source": [
    "# Setting up the XGBClassifier and running a grid search to find optimal hyperparameters\n",
    "# XGB = XGBClassifier(random_state=13)\n",
    "# param_grid_XGB = {\n",
    "#     'learning_rate': [0.05],\n",
    "#     'n_estimators': [300],\n",
    "#     'max_depth': [6],\n",
    "#     'min_child_weight': [1],\n",
    "#     'gamma': [0, 0.2],\n",
    "#     'subsample': [0.5],\n",
    "#     'scale_pos_weight':[4],\n",
    "#     'colsample_bytree': [0.5]}\n",
    "# xgb_cv = GridSearchCV(XGB, param_grid_XGB, cv=3, scoring='roc_auc', n_jobs=-1)\n",
    "# xgb_cv.fit(X_tr, y_tr)\n",
    "# print(xgb_cv.best_params_)\n",
    "# print(xgb_cv.best_score_)"
   ],
   "metadata": {
    "id": "yXDrSGaunD_i"
   },
   "execution_count": null,
   "outputs": []
  },
  {
   "cell_type": "code",
   "source": [
    "# Optimal parameters are plugged in the model and re-run the training.  Plot the auc metric to detect and remedy overfitting\n",
    "import matplotlib.pyplot as plt\n",
    "param_grid_XGB = {\n",
    "    'learning_rate': 0.1,\n",
    "    'n_estimators': 600,\n",
    "    'max_depth': 2,\n",
    "    'min_child_weight': 1,\n",
    "    'gamma': 0,\n",
    "    'subsample': 1.0,\n",
    "    'scale_pos_weight':4,\n",
    "    'colsample_bytree': 0.5,\n",
    "    'verbose':False}\n",
    "\n",
    "eval_set = [(X_tr,y_tr),(X_va,y_va)]\n",
    "eval_metric = [\"auc\"]\n",
    "xgb_final = XGBClassifier(**param_grid_XGB,eval_metric=eval_metric)\n",
    "xgb_final.fit(X_tr, y_tr, eval_set=eval_set, verbose=True)\n",
    "\n",
    "results = xgb_final.evals_result()\n",
    "epochs = len(results['validation_0']['auc'])\n",
    "x_axis = range(0, epochs)\n",
    "\n",
    "fig, ax = plt.subplots()\n",
    "ax.plot(x_axis, results['validation_0']['auc'], label='Train')\n",
    "ax.plot(x_axis, results['validation_1']['auc'], label='Test')\n",
    "ax.legend()\n",
    "plt.ylabel('AUC')\n",
    "plt.title('XGBoost AUC')\n",
    "plt.show()\n",
    "\n",
    "\n"
   ],
   "metadata": {
    "id": "wJcnT_7yeeoG",
    "collapsed": true,
    "ExecuteTime": {
     "end_time": "2024-10-31T02:12:34.110825Z",
     "start_time": "2024-10-31T02:12:34.069069Z"
    }
   },
   "outputs": [
    {
     "ename": "NameError",
     "evalue": "name 'XGBClassifier' is not defined",
     "output_type": "error",
     "traceback": [
      "\u001B[0;31m---------------------------------------------------------------------------\u001B[0m",
      "\u001B[0;31mNameError\u001B[0m                                 Traceback (most recent call last)",
      "Cell \u001B[0;32mIn[33], line 16\u001B[0m\n\u001B[1;32m     14\u001B[0m eval_set \u001B[38;5;241m=\u001B[39m [(X_tr,y_tr),(X_va,y_va)]\n\u001B[1;32m     15\u001B[0m eval_metric \u001B[38;5;241m=\u001B[39m [\u001B[38;5;124m\"\u001B[39m\u001B[38;5;124mauc\u001B[39m\u001B[38;5;124m\"\u001B[39m]\n\u001B[0;32m---> 16\u001B[0m xgb_final \u001B[38;5;241m=\u001B[39m \u001B[43mXGBClassifier\u001B[49m(\u001B[38;5;241m*\u001B[39m\u001B[38;5;241m*\u001B[39mparam_grid_XGB,eval_metric\u001B[38;5;241m=\u001B[39meval_metric)\n\u001B[1;32m     17\u001B[0m xgb_final\u001B[38;5;241m.\u001B[39mfit(X_tr, y_tr, eval_set\u001B[38;5;241m=\u001B[39meval_set, verbose\u001B[38;5;241m=\u001B[39m\u001B[38;5;28;01mTrue\u001B[39;00m)\n\u001B[1;32m     19\u001B[0m results \u001B[38;5;241m=\u001B[39m xgb_final\u001B[38;5;241m.\u001B[39mevals_result()\n",
      "\u001B[0;31mNameError\u001B[0m: name 'XGBClassifier' is not defined"
     ]
    }
   ],
   "execution_count": 33
  },
  {
   "metadata": {
    "ExecuteTime": {
     "end_time": "2024-10-30T21:42:42.058435Z",
     "start_time": "2024-10-30T21:42:42.019957Z"
    }
   },
   "cell_type": "code",
   "source": "X_tr.isna().sum().sum()",
   "outputs": [
    {
     "data": {
      "text/plain": [
       "0"
      ]
     },
     "execution_count": 222,
     "metadata": {},
     "output_type": "execute_result"
    }
   ],
   "execution_count": 222
  },
  {
   "cell_type": "code",
   "source": [
    "# Try Random Forest as the second model and conduct a grid search to find optimal parameters\n",
    "from sklearn.ensemble import RandomForestClassifier\n",
    "RFC = RandomForestClassifier(random_state=13)\n",
    "param_grid_RFC = {\n",
    "    'max_depth': [5, 15],\n",
    "    'n_estimators': [100, 200],\n",
    "    'min_samples_split': [3, 10]\n",
    "}\n",
    "rfc_cv = GridSearchCV(RFC, param_grid_RFC, cv=3, scoring='roc_auc', n_jobs=-1)\n",
    "rfc_cv.fit(X_tr, y_tr)\n",
    "print(rfc_cv.best_params_)\n",
    "print(rfc_cv.best_score_)"
   ],
   "metadata": {
    "id": "Fytp6bsIvASA",
    "ExecuteTime": {
     "end_time": "2024-10-30T21:43:46.913494Z",
     "start_time": "2024-10-30T21:42:49.645857Z"
    }
   },
   "outputs": [
    {
     "name": "stdout",
     "output_type": "stream",
     "text": [
      "{'max_depth': 15, 'min_samples_split': 3, 'n_estimators': 200}\n",
      "0.9338604448162959\n"
     ]
    }
   ],
   "execution_count": 223
  },
  {
   "cell_type": "markdown",
   "source": [],
   "metadata": {
    "id": "kt1S37wh7Fc0"
   }
  },
  {
   "cell_type": "code",
   "source": [
    "# Plug in the optimal parameters from the gridsearch and re-run training\n",
    "from sklearn.ensemble import RandomForestClassifier\n",
    "eval_set = [(X_tr,y_tr),(X_va,y_va)]\n",
    "eval_metric = [\"auc\"]\n",
    "rfc_final = RandomForestClassifier(max_depth= 15, min_samples_split=3,n_estimators= 200,random_state=13)\n",
    "rfc_final.fit(X_tr, y_tr)\n",
    "y_pred = rfc_final.predict(X_va)"
   ],
   "metadata": {
    "id": "j8je9IuBJEyV",
    "ExecuteTime": {
     "end_time": "2024-10-30T21:44:47.720777Z",
     "start_time": "2024-10-30T21:44:35.078266Z"
    }
   },
   "outputs": [],
   "execution_count": 225
  },
  {
   "cell_type": "code",
   "source": [
    "# Try LightGBM as the third model\n",
    "'''\n",
    "I was unable to install lightgbm on mac.  The code runs on colab but I just could not find a way to install it on my mac\n",
    "'''\n",
    "# import lightgbm as lgb\n",
    "# lgbm_final = lgb.LGBMClassifier()\n",
    "# lgbm_final.fit(X_tr, y_tr)\n",
    "# y_pred=lgbm_final.predict(X_va)\n",
    "# roc_auc_score(y_pred,y_va)\n",
    "# print(y_pred[0:20])"
   ],
   "metadata": {
    "id": "y28JKZItMq41",
    "ExecuteTime": {
     "end_time": "2024-10-29T04:08:49.697414Z",
     "start_time": "2024-10-29T04:08:49.633869Z"
    }
   },
   "outputs": [
    {
     "ename": "TypeError",
     "evalue": "cpu_count() got an unexpected keyword argument 'only_physical_cores'",
     "output_type": "error",
     "traceback": [
      "\u001B[0;31m---------------------------------------------------------------------------\u001B[0m",
      "\u001B[0;31mTypeError\u001B[0m                                 Traceback (most recent call last)",
      "\u001B[0;32m<ipython-input-44-938fe2a9af87>\u001B[0m in \u001B[0;36m<module>\u001B[0;34m\u001B[0m\n\u001B[1;32m      5\u001B[0m \u001B[0;32mimport\u001B[0m \u001B[0mlightgbm\u001B[0m \u001B[0;32mas\u001B[0m \u001B[0mlgb\u001B[0m\u001B[0;34m\u001B[0m\u001B[0;34m\u001B[0m\u001B[0m\n\u001B[1;32m      6\u001B[0m \u001B[0mlgbm_final\u001B[0m \u001B[0;34m=\u001B[0m \u001B[0mlgb\u001B[0m\u001B[0;34m.\u001B[0m\u001B[0mLGBMClassifier\u001B[0m\u001B[0;34m(\u001B[0m\u001B[0;34m)\u001B[0m\u001B[0;34m\u001B[0m\u001B[0;34m\u001B[0m\u001B[0m\n\u001B[0;32m----> 7\u001B[0;31m \u001B[0mlgbm_final\u001B[0m\u001B[0;34m.\u001B[0m\u001B[0mfit\u001B[0m\u001B[0;34m(\u001B[0m\u001B[0mX_tr\u001B[0m\u001B[0;34m,\u001B[0m \u001B[0my_tr\u001B[0m\u001B[0;34m)\u001B[0m\u001B[0;34m\u001B[0m\u001B[0;34m\u001B[0m\u001B[0m\n\u001B[0m\u001B[1;32m      8\u001B[0m \u001B[0my_pred\u001B[0m\u001B[0;34m=\u001B[0m\u001B[0mlgbm_final\u001B[0m\u001B[0;34m.\u001B[0m\u001B[0mpredict\u001B[0m\u001B[0;34m(\u001B[0m\u001B[0mX_va\u001B[0m\u001B[0;34m)\u001B[0m\u001B[0;34m\u001B[0m\u001B[0;34m\u001B[0m\u001B[0m\n\u001B[1;32m      9\u001B[0m \u001B[0mroc_auc_score\u001B[0m\u001B[0;34m(\u001B[0m\u001B[0my_pred\u001B[0m\u001B[0;34m,\u001B[0m\u001B[0my_va\u001B[0m\u001B[0;34m)\u001B[0m\u001B[0;34m\u001B[0m\u001B[0;34m\u001B[0m\u001B[0m\n",
      "\u001B[0;32m~/Library/Python/3.6/lib/python/site-packages/lightgbm/sklearn.py\u001B[0m in \u001B[0;36mfit\u001B[0;34m(self, X, y, sample_weight, init_score, eval_set, eval_names, eval_sample_weight, eval_class_weight, eval_init_score, eval_metric, feature_name, categorical_feature, callbacks, init_model)\u001B[0m\n",
      "\u001B[0;32m~/Library/Python/3.6/lib/python/site-packages/lightgbm/sklearn.py\u001B[0m in \u001B[0;36mfit\u001B[0;34m(self, X, y, sample_weight, init_score, group, eval_set, eval_names, eval_sample_weight, eval_class_weight, eval_init_score, eval_group, eval_metric, feature_name, categorical_feature, callbacks, init_model)\u001B[0m\n",
      "\u001B[0;32m~/Library/Python/3.6/lib/python/site-packages/lightgbm/sklearn.py\u001B[0m in \u001B[0;36m_process_params\u001B[0;34m(self, stage)\u001B[0m\n",
      "\u001B[0;32m~/Library/Python/3.6/lib/python/site-packages/lightgbm/sklearn.py\u001B[0m in \u001B[0;36m_process_n_jobs\u001B[0;34m(self, n_jobs)\u001B[0m\n",
      "\u001B[0;32m~/Library/Python/3.6/lib/python/site-packages/lightgbm/compat.py\u001B[0m in \u001B[0;36m_LGBMCpuCount\u001B[0;34m(only_physical_cores)\u001B[0m\n",
      "\u001B[0;31mTypeError\u001B[0m: cpu_count() got an unexpected keyword argument 'only_physical_cores'"
     ]
    }
   ],
   "execution_count": 44
  },
  {
   "cell_type": "markdown",
   "source": [],
   "metadata": {
    "id": "m8JOCe3ZPvq3"
   }
  },
  {
   "cell_type": "code",
   "source": [
    "# !pip install catboost"
   ],
   "metadata": {
    "id": "Pyms7ruqAmlJ"
   },
   "execution_count": null,
   "outputs": []
  },
  {
   "cell_type": "code",
   "source": [
    "'''\n",
    "I was also unable to install catboost although I upgraded to 64-bit python.  Note that\n",
    "catboost loaded and ran perfectly on Google colab.\n",
    "'''\n",
    "# from catboost import CatBoostClassifier\n",
    "# from scipy.stats import randint, uniform\n",
    "# from sklearn.model_selection import RandomizedSearchCV\n",
    "# catboost_param_dist = {\n",
    "#     'depth': randint(4, 10),\n",
    "#     'learning_rate': uniform(0.01, 0.3),\n",
    "#     'iterations': randint(10, 1000),\n",
    "#     'l2_leaf_reg': randint(1, 10),\n",
    "#     'border_count': randint(1, 255),\n",
    "#     'bagging_temperature': uniform(0.0, 1.0),\n",
    "#     'random_strength': uniform(0.0, 1.0)\n",
    "# }\n",
    "# # Initialize CatBoost Classifier\n",
    "# CB = CatBoostClassifier()\n",
    "# # Setup RandomizedSearchCV\n",
    "# random_search_cb = RandomizedSearchCV(estimator=CB,\n",
    "#                                       param_distributions=catboost_param_dist,\n",
    "#                                       cv=5,\n",
    "#                                       verbose=2,\n",
    "#                                       random_state=42)\n",
    "# # Fit the model\n",
    "# random_search_cb.fit(X_tr, y_tr)\n",
    "# # Evaluate the model\n",
    "# random_search_cb_score = random_search_cb.score(X_va, y_va)\n",
    "# print(random_search_cb_score)\n",
    "# print(random_search_cb.best_params_)"
   ],
   "metadata": {
    "id": "JqG_H0da3K0c"
   },
   "execution_count": null,
   "outputs": []
  },
  {
   "cell_type": "code",
   "source": [
    "# from catboost import CatBoostClassifier\n",
    "# catboost_final = CatBoostClassifier(**random_search_cb.best_params_)\n",
    "# catboost_final.fit(X_tr, y_tr)\n",
    "# y_pred=catboost_final.predict(X_va)\n",
    "# roc_auc_score(y_pred,y_va)"
   ],
   "metadata": {
    "id": "HnJBd_h_0WeQ"
   },
   "execution_count": null,
   "outputs": []
  },
  {
   "cell_type": "code",
   "source": [
    "# Voting ensemble between three models\n",
    "from sklearn.ensemble import VotingClassifier\n",
    "ensemble = [('RandomForest',rfc_final),('XGBoost',xgb_final)]\n",
    "# ensemble = [('catboost',catboost_final),('lightGBM',lgbm_final),('RandomForest',rfc_final),('XGBoost',xgb_final)]\n",
    "final_mod = VotingClassifier(estimators=ensemble,voting='soft')\n",
    "final_mod = final_mod.fit(X_tr,y_tr)\n",
    "y_pred = final_mod.predict_proba(X_va)\n",
    "# roc_auc_score(y_pred,y_va)"
   ],
   "metadata": {
    "id": "rl2VNAlyYLqk",
    "ExecuteTime": {
     "end_time": "2024-10-30T21:45:27.669445Z",
     "start_time": "2024-10-30T21:45:10.207633Z"
    }
   },
   "outputs": [
    {
     "name": "stderr",
     "output_type": "stream",
     "text": [
      "/Library/Frameworks/Python.framework/Versions/3.6/lib/python3.6/site-packages/xgboost/sklearn.py:1146: UserWarning: The use of label encoder in XGBClassifier is deprecated and will be removed in a future release. To remove this warning, do the following: 1) Pass option use_label_encoder=False when constructing XGBClassifier object; and 2) Encode your labels (y) as integers starting with 0, i.e. 0, 1, 2, ..., [num_class - 1].\n",
      "  warnings.warn(label_encoder_deprecation_msg, UserWarning)\n"
     ]
    },
    {
     "name": "stdout",
     "output_type": "stream",
     "text": [
      "[14:45:22] WARNING: /Users/travis/build/dmlc/xgboost/src/learner.cc:573: \n",
      "Parameters: { \"verbose\" } might not be used.\n",
      "\n",
      "  This may not be accurate due to some parameters are only used in language bindings but\n",
      "  passed down to XGBoost core.  Or some parameters are not used but slip through this\n",
      "  verification. Please open an issue if you find above cases.\n",
      "\n",
      "\n"
     ]
    }
   ],
   "execution_count": 226
  },
  {
   "cell_type": "code",
   "source": [
    "# prepare the final prediction output for submission\n",
    "y_final = final_mod.predict_proba(X_tef)[:,1]\n",
    "y_final_df = pd.DataFrame(y_final,columns=['loan_status'],dtype=float)\n",
    "final = pd.concat([test_id_col,y_final_df],axis=1)\n",
    "final.to_csv('./submission.csv', index=False)"
   ],
   "metadata": {
    "id": "A7ZG7JzwdGTZ",
    "colab": {
     "base_uri": "https://localhost:8080/",
     "height": 206
    },
    "outputId": "6f4d516e-786f-45cf-bc86-00afe30b3c65",
    "ExecuteTime": {
     "end_time": "2024-10-30T21:49:54.938713Z",
     "start_time": "2024-10-30T21:49:54.103278Z"
    }
   },
   "outputs": [],
   "execution_count": 230
  },
  {
   "metadata": {},
   "cell_type": "code",
   "outputs": [],
   "execution_count": null,
   "source": ""
  }
 ]
}
